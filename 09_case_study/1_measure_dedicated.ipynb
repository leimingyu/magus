{
 "cells": [
  {
   "cell_type": "code",
   "execution_count": 14,
   "metadata": {},
   "outputs": [],
   "source": [
    "import os,re\n",
    "import numpy as np\n",
    "import subprocess"
   ]
  },
  {
   "cell_type": "code",
   "execution_count": 2,
   "metadata": {},
   "outputs": [],
   "source": [
    "app2metric_dd = np.load('./similarity/app2metric_dd.npy').item()\n",
    "app2trace_dd = np.load('./similarity/app2metric_dd.npy').item()\n",
    "app2dir_dd = np.load('./app2dir_dd.npy').item()"
   ]
  },
  {
   "cell_type": "code",
   "execution_count": 20,
   "metadata": {},
   "outputs": [],
   "source": [
    "print len(app2metric_dd),len(app2trace_dd), len(app2dir_dd)"
   ]
  },
  {
   "cell_type": "code",
   "execution_count": 19,
   "metadata": {},
   "outputs": [
    {
     "name": "stdout",
     "output_type": "stream",
     "text": [
      "756.3\n"
     ]
    }
   ],
   "source": [
    "p = subprocess.Popen(['./benchmark_app.sh', 'matrixMul',  '../apps/devid_cudasdk80/0_Simple/matrixMul'], stdout=subprocess.PIPE)\n",
    "result = p.communicate()\n",
    "runtime_ms = float(re.findall(r\"[-+]?\\d*\\.\\d+|\\d+\", result[0])[0])\n",
    "print runtime_ms"
   ]
  },
  {
   "cell_type": "code",
   "execution_count": 6,
   "metadata": {},
   "outputs": [
    {
     "name": "stdout",
     "output_type": "stream",
     "text": [
      "rodinia_b+tree ../apps/devid_rodinia/b+tree\n",
      "/home/leiming/Dropbox/08_git/magus/09_case_study\n"
     ]
    }
   ],
   "source": [
    "app_runtime_dd = {}\n",
    "for app, app_dir in app2dir_dd.iteritems():\n",
    "    #print app, app_dir\n",
    "    \n",
    "    p = subprocess.Popen(['./benchmark_app.sh', app, app_dir], stdout=subprocess.PIPE)\n",
    "    result = p.communicate()\n",
    "    runtime_ms = float(re.findall(r\"[-+]?\\d*\\.\\d+|\\d+\", result[0])[0])\n",
    "    \n",
    "    app_runtime_dd[app] = runtime_ms\n",
    "    print(\"{} : \\t {}\".format(app, runtime_ms))"
   ]
  }
 ],
 "metadata": {
  "kernelspec": {
   "display_name": "Python 2",
   "language": "python",
   "name": "python2"
  },
  "language_info": {
   "codemirror_mode": {
    "name": "ipython",
    "version": 2
   },
   "file_extension": ".py",
   "mimetype": "text/x-python",
   "name": "python",
   "nbconvert_exporter": "python",
   "pygments_lexer": "ipython2",
   "version": "2.7.14"
  }
 },
 "nbformat": 4,
 "nbformat_minor": 2
}

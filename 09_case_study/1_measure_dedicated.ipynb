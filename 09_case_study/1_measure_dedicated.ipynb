{
 "cells": [
  {
   "cell_type": "code",
   "execution_count": 1,
   "metadata": {},
   "outputs": [],
   "source": [
    "import os,re\n",
    "import numpy as np\n",
    "import subprocess"
   ]
  },
  {
   "cell_type": "code",
   "execution_count": 2,
   "metadata": {},
   "outputs": [],
   "source": [
    "app2metric_dd = np.load('./similarity/app2metric_dd.npy').item()\n",
    "app2trace_dd = np.load('./similarity/app2metric_dd.npy').item()\n",
    "app2dir_dd = np.load('./app2dir_dd.npy').item()"
   ]
  },
  {
   "cell_type": "code",
   "execution_count": 3,
   "metadata": {},
   "outputs": [
    {
     "name": "stdout",
     "output_type": "stream",
     "text": [
      "79 79 79\n"
     ]
    }
   ],
   "source": [
    "print len(app2metric_dd),len(app2trace_dd), len(app2dir_dd)"
   ]
  },
  {
   "cell_type": "code",
   "execution_count": 4,
   "metadata": {},
   "outputs": [],
   "source": [
    "# p = subprocess.Popen(['./benchmark_app.sh', 'matrixMul',  '../apps/devid_cudasdk80/0_Simple/matrixMul'], stdout=subprocess.PIPE)\n",
    "# result = p.communicate()\n",
    "# runtime_ms = float(re.findall(r\"[-+]?\\d*\\.\\d+|\\d+\", result[0])[0])\n",
    "# print runtime_ms"
   ]
  },
  {
   "cell_type": "code",
   "execution_count": 5,
   "metadata": {},
   "outputs": [
    {
     "name": "stdout",
     "output_type": "stream",
     "text": [
      "rodinia_b+tree : \t 2642.2\n",
      "rodinia_heartwall : \t 1707.9\n",
      "cudasdk_convolutionFFT2D : \t 2.0\n",
      "shoc_lev1BFS : \t 1.0\n",
      "rodinia_lavaMD : \t 1565.8\n",
      "poly_gemm : \t 2154.2\n",
      "rodinia_hybridsort : \t 1971.5\n",
      "cudasdk_MCEstimatePiInlineQ : \t 1471.5\n",
      "cudasdk_MCEstimatePiInlineP : \t 1479.6\n",
      "cudasdk_shflscan : \t 1512.7\n",
      "rodinia_dwt2d : \t 2.0\n",
      "cudasdk_vectorAdd : \t 1481.8\n",
      "cudasdk_MCEstimatePiP : \t 1528.3\n",
      "cudasdk_radixSortThrust : \t 4385.2\n",
      "shoc_lev1md5hash : \t 1.0\n",
      "parboil_bfs : \t 1685.5\n",
      "poly_covariance : \t 28960.1\n",
      "shoc_lev1fft : \t 1.0\n",
      "cudasdk_segmentationTreeThrust : \t 3868.7\n",
      "cudasdk_simpleCUBLAS : \t 1827.6\n",
      "parboil_sgemm : \t 1489.3\n",
      "cudasdk_concurrentKernels : \t 1485.0\n",
      "cudasdk_fastWalshTransform : \t 4356.6\n",
      "cudasdk_SobolQRNG : \t 1639.4\n",
      "poly_gesummv : \t 1973.8\n",
      "cudasdk_c++11Cuda : \t 11.0\n",
      "lonestar_bh : \t 2660.8\n",
      "cudasdk_FDTD3d : \t 3.0\n",
      "cudasdk_eigenvalues : \t 2401.7\n",
      "cudasdk_dxtc : \t 1477.1\n",
      "parboil_stencil : \t 1481.5\n",
      "cudasdk_reduction : \t 2171.3\n",
      "poly_correlation : \t 29069.2\n",
      "cudasdk_sortingNetworks : \t 6721.3\n",
      "cudasdk_convolutionSeparable : \t 2906.1\n",
      "poly_2dconv : \t 2.0\n",
      "cudasdk_batchCUBLAS : \t 1807.5\n",
      "rodinia_pathfinder : \t 1761.1\n",
      "parboil_mriq : \t 1458.5\n",
      "cudasdk_binomialOptions : \t 25939.8\n",
      "cudasdk_scalarProd : \t 1521.4\n",
      "cudasdk_dwtHaar1D : \t 1.0\n",
      "cudasdk_quasirandomGenerator : \t 2133.4\n",
      "cudasdk_threadFenceReduction : \t 1513.3\n",
      "cudasdk_simpleCUFFTcallback : \t 1866.7\n",
      "rodinia_needle : \t 1631.0\n",
      "poly_fdtd2d : \t 2.0\n",
      "poly_mvt : \t 2094.3\n",
      "lonestar_mst : \t 1452.0\n",
      "parboil_cutcp : \t 1543.1\n",
      "lonestar_sssp : \t 2689.4\n",
      "poly_3mm : \t 3.0\n",
      "cudasdk_convolutionTexture : \t 2195.5\n",
      "rodinia_gaussian : \t 1466.6\n",
      "cudasdk_matrixMul : \t 1483.3\n",
      "poly_bicg : \t 1771.2\n",
      "poly_syr2k : \t 2.0\n",
      "cudasdk_MCEstimatePiQ : \t 1546.9\n",
      "shoc_lev1sort : \t 1.0\n",
      "cudasdk_scan : \t 3620.1\n",
      "cudasdk_stereoDisparity : \t 23502.1\n",
      "cudasdk_MCSingleAsianOptionP : \t 1437.6\n",
      "lonestar_dmr : \t 7316.1\n",
      "parboil_lbm : \t 4117.6\n",
      "rodinia_lud : \t 1442.8\n",
      "cudasdk_dct8x8 : \t 8.0\n",
      "cudasdk_interval : \t 2995.2\n",
      "cudasdk_mergeSort : \t 1816.5\n",
      "shoc_lev1reduction : \t 1.0\n",
      "cudasdk_transpose : \t 1748.3\n",
      "poly_atax : \t 1772.7\n",
      "poly_3dconv : \t 3.0\n",
      "cudasdk_BlackScholes : \t 2416.1\n",
      "cudasdk_lineOfSight : \t 1533.0\n",
      "poly_syrk : \t 4937.3\n",
      "rodinia_hotspot : \t 1745.0\n",
      "cudasdk_boxFilterNPP : \t 1497.7\n",
      "shoc_lev1GEMM : \t 1.0\n",
      "rodinia_backprop : \t 1537.5\n"
     ]
    }
   ],
   "source": [
    "app_runtime_dd = {}\n",
    "for app, app_dir in app2dir_dd.iteritems():\n",
    "    #print app, app_dir\n",
    "    #print type(app), type(app_dir)\n",
    "    \n",
    "    p = subprocess.Popen(['./benchmark_app.sh', str(app), str(app_dir)], stdout=subprocess.PIPE)\n",
    "    result = p.communicate()\n",
    "    #print result\n",
    "    \n",
    "    #runtime_ms = float(re.findall(r\"[-+]?\\d*\\.\\d+|\\d+\", result[0])[0])\n",
    "   \n",
    "    \n",
    "    #\n",
    "    # read /tmp/magic_time_log\n",
    "    #\n",
    "    timing_log = open(\"/tmp/magic_time_log\", 'r')\n",
    "    timing_list = []\n",
    "    for line in timing_log:\n",
    "        if line.strip():\n",
    "            #print line\n",
    "            runtime_ms = float(re.findall(r\"[-+]?\\d*\\.\\d+|\\d+\", line)[0])\n",
    "            #print runtime_ms\n",
    "            timing_list.append(runtime_ms)\n",
    "            \n",
    "    # avg\n",
    "    avg_runtime = sum(timing_list) / float(len(timing_list))\n",
    "    #print avg_runtime\n",
    "\n",
    "    app_runtime_dd[app] = avg_runtime\n",
    "    print(\"{} : \\t {}\".format(app, avg_runtime))"
   ]
  },
  {
   "cell_type": "code",
   "execution_count": null,
   "metadata": {},
   "outputs": [],
   "source": [
    "# s"
   ]
  }
 ],
 "metadata": {
  "kernelspec": {
   "display_name": "Python 2",
   "language": "python",
   "name": "python2"
  },
  "language_info": {
   "codemirror_mode": {
    "name": "ipython",
    "version": 2
   },
   "file_extension": ".py",
   "mimetype": "text/x-python",
   "name": "python",
   "nbconvert_exporter": "python",
   "pygments_lexer": "ipython2",
   "version": "2.7.14"
  }
 },
 "nbformat": 4,
 "nbformat_minor": 2
}

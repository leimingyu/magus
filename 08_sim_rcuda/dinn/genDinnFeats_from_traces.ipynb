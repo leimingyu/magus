{
 "cells": [
  {
   "cell_type": "code",
   "execution_count": 1,
   "metadata": {},
   "outputs": [],
   "source": [
    "%load_ext autoreload\n",
    "%autoreload 2\n",
    "\n",
    "import os\n",
    "import sys # error msg, add the modules\n",
    "\n",
    "import pandas as pd\n",
    "import numpy as np\n",
    "import operator\n",
    "import copy\n",
    "\n",
    "sys.path.append(\"../../pycode/\")\n",
    "from magus_util import read_nvprof_trace, parse_nvprof_trace, getruntime, sort_dict_by_val, genNNFeat\n",
    "from magus_contention import *"
   ]
  },
  {
   "cell_type": "code",
   "execution_count": 2,
   "metadata": {},
   "outputs": [],
   "source": [
    "# \n",
    "#read traces files in similarity folder\n",
    "#\n",
    "\n",
    "traceFolder = \"../similarity/traces/\"\n",
    "\n",
    "traceFiles = os.listdir(traceFolder)"
   ]
  },
  {
   "cell_type": "code",
   "execution_count": 3,
   "metadata": {},
   "outputs": [
    {
     "data": {
      "text/plain": [
       "['traces_cudasdk_MCEstimatePiP.csv',\n",
       " 'traces_cudasdk_simpleCUBLAS.csv',\n",
       " 'traces_cudasdk_shflscan.csv']"
      ]
     },
     "execution_count": 3,
     "metadata": {},
     "output_type": "execute_result"
    }
   ],
   "source": [
    "traceFiles[:3]"
   ]
  },
  {
   "cell_type": "code",
   "execution_count": 4,
   "metadata": {},
   "outputs": [
    {
     "name": "stdout",
     "output_type": "stream",
     "text": [
      "79\n"
     ]
    }
   ],
   "source": [
    "print len(traceFiles)"
   ]
  },
  {
   "cell_type": "markdown",
   "metadata": {},
   "source": [
    "### parse traces and save them into data dictionary"
   ]
  },
  {
   "cell_type": "code",
   "execution_count": 5,
   "metadata": {},
   "outputs": [
    {
     "name": "stdout",
     "output_type": "stream",
     "text": [
      "cudasdk_MCEstimatePiP\n",
      "cudasdk_simpleCUBLAS\n",
      "cudasdk_shflscan\n",
      "poly_gesummv\n",
      "cudasdk_binomialOptions\n",
      "poly_atax\n",
      "cudasdk_lineOfSight\n",
      "lonestar_mst\n",
      "cudasdk_BlackScholes\n",
      "cudasdk_MCSingleAsianOptionP\n",
      "shoc_lev1sort\n",
      "poly_3dconv\n",
      "rodinia_hotspot\n",
      "cudasdk_scalarProd\n",
      "poly_3mm\n",
      "parboil_mriq\n",
      "parboil_stencil\n",
      "poly_gemm\n",
      "cudasdk_radixSortThrust\n",
      "rodinia_gaussian\n",
      "cudasdk_SobolQRNG\n",
      "poly_fdtd2d\n",
      "rodinia_pathfinder\n",
      "poly_correlation\n",
      "shoc_lev1BFS\n",
      "cudasdk_convolutionTexture\n",
      "lonestar_sssp\n",
      "shoc_lev1reduction\n",
      "cudasdk_concurrentKernels\n",
      "rodinia_lud\n",
      "shoc_lev1fft\n",
      "cudasdk_MCEstimatePiQ\n",
      "cudasdk_batchCUBLAS\n",
      "shoc_lev1GEMM\n",
      "poly_syrk\n",
      "cudasdk_matrixMul\n",
      "cudasdk_convolutionFFT2D\n",
      "cudasdk_dxtc\n",
      "rodinia_hybridsort\n",
      "cudasdk_c++11Cuda\n",
      "rodinia_needle\n",
      "cudasdk_stereoDisparity\n",
      "poly_mvt\n",
      "cudasdk_threadFenceReduction\n",
      "lonestar_bh\n",
      "cudasdk_mergeSort\n",
      "parboil_lbm\n",
      "rodinia_dwt2d\n",
      "rodinia_backprop\n",
      "parboil_sgemm\n",
      "cudasdk_convolutionSeparable\n",
      "cudasdk_boxFilterNPP\n",
      "cudasdk_scan\n",
      "cudasdk_dwtHaar1D\n",
      "cudasdk_quasirandomGenerator\n",
      "cudasdk_interval\n",
      "cudasdk_vectorAdd\n",
      "cudasdk_eigenvalues\n",
      "cudasdk_transpose\n",
      "rodinia_lavaMD\n",
      "rodinia_heartwall\n",
      "poly_covariance\n",
      "lonestar_dmr\n",
      "poly_syr2k\n",
      "cudasdk_dct8x8\n",
      "cudasdk_MCEstimatePiInlineQ\n",
      "parboil_cutcp\n",
      "cudasdk_simpleCUFFTcallback\n",
      "rodinia_b+tree\n",
      "cudasdk_FDTD3d\n",
      "poly_bicg\n",
      "shoc_lev1md5hash\n",
      "cudasdk_segmentationTreeThrust\n",
      "poly_2dconv\n",
      "cudasdk_MCEstimatePiInlineP\n",
      "cudasdk_reduction\n",
      "cudasdk_sortingNetworks\n",
      "parboil_bfs\n",
      "cudasdk_fastWalshTransform\n"
     ]
    }
   ],
   "source": [
    "app2dinnFeats_dd = {}\n",
    "\n",
    "for appcsv in traceFiles:\n",
    "    #print appcsv[7:][:-4]\n",
    "    \n",
    "    appName = appcsv[7:][:-4]\n",
    "    print appName\n",
    "    \n",
    "    file_csv = traceFolder + appcsv\n",
    "    #print file_csv\n",
    "    \n",
    "    # read csv file to dataframe\n",
    "    df_trace = read_nvprof_trace(file_csv)\n",
    "    \n",
    "    # convert dataframe to trace list\n",
    "    appTraceList = parse_nvprof_trace(df_trace)\n",
    "    \n",
    "    # dinn features\n",
    "    dinnfeats = genNNFeat(appTraceList)\n",
    "    #print dinnfeats\n",
    "    \n",
    "#     #\n",
    "#     # debug\n",
    "#     #\n",
    "#     if appName == \"cudasdk_lineOfSight\":\n",
    "#         print appTraceList\n",
    "#         dinnfeats = genNNFeat(appTraceList)\n",
    "#         #print dinnfeats\n",
    "#         break\n",
    "    \n",
    "    \n",
    "    # generate DINN features for each app (45 feats)    \n",
    "    app2dinnFeats_dd[appName] = dinnfeats\n",
    "    \n",
    "    #break"
   ]
  },
  {
   "cell_type": "code",
   "execution_count": 6,
   "metadata": {},
   "outputs": [],
   "source": [
    "#\n",
    "# save to a file\n",
    "#\n",
    "np.save('app2dinnFeats_dd.npy', app2dinnFeats_dd)"
   ]
  }
 ],
 "metadata": {
  "kernelspec": {
   "display_name": "Python 2",
   "language": "python",
   "name": "python2"
  },
  "language_info": {
   "codemirror_mode": {
    "name": "ipython",
    "version": 2
   },
   "file_extension": ".py",
   "mimetype": "text/x-python",
   "name": "python",
   "nbconvert_exporter": "python",
   "pygments_lexer": "ipython2",
   "version": "2.7.14"
  }
 },
 "nbformat": 4,
 "nbformat_minor": 2
}

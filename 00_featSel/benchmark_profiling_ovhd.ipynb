{
 "cells": [
  {
   "cell_type": "code",
   "execution_count": 1,
   "metadata": {
    "collapsed": true
   },
   "outputs": [],
   "source": [
    "import re\n",
    "# dict of lists\n",
    "from collections import defaultdict\n",
    "\n",
    "\n",
    "def read_file(filename):\n",
    "    result_dlist = defaultdict(list)\n",
    "\n",
    "    with open(filename, \"r\") as File:\n",
    "        for line in File:\n",
    "    #         print line\n",
    "            if line.strip() :  # non empty line\n",
    "                #print re.split(\":\",line)\n",
    "                [appName, appTime] = re.split(\":\",line)\n",
    "                app_runtime = re.findall(\"[-+]?[.]?[\\d]+(?:,\\d\\d\\d)*[\\.]?\\d*(?:[eE][-+]?\\d+)?\", appTime)\n",
    "                #print app_runtime\n",
    "                result_dlist[appName].append(app_runtime)\n",
    "                \n",
    "    return result_dlist"
   ]
  },
  {
   "cell_type": "markdown",
   "metadata": {},
   "source": [
    "### featall"
   ]
  },
  {
   "cell_type": "code",
   "execution_count": 2,
   "metadata": {},
   "outputs": [
    {
     "name": "stdout",
     "output_type": "stream",
     "text": [
      "mergeSort : 124311.0\n",
      "rdxSortTust : 7160713.5\n",
      "scan : 12940056.5\n",
      "SobolQRNG : 3606.0\n",
      "transpose : 2142894.0\n",
      "interval : 295781.0\n",
      "sortNets : 741315.5\n",
      "convFFT2D : 219949.5\n",
      "matrixMul : 753920.0\n",
      "quasiGen : 105467.5\n",
      "MC_OptP : 8853.0\n",
      "reduction : 518402.5\n",
      "binOpt : 29332.5\n"
     ]
    }
   ],
   "source": [
    "result_dlist = read_file(\"13apps/prof_ovhd_featall\")\n",
    "\n",
    "for key, value in result_dlist.iteritems():\n",
    "    #print key, value\n",
    "    total = 0.\n",
    "    for v in value:\n",
    "        total = total + float(v[0])\n",
    "    avg_runtime = total / len(value)\n",
    "    print(\"{} : {}\".format(key, avg_runtime))"
   ]
  },
  {
   "cell_type": "markdown",
   "metadata": {},
   "source": [
    "### feat64"
   ]
  },
  {
   "cell_type": "code",
   "execution_count": 3,
   "metadata": {},
   "outputs": [
    {
     "name": "stdout",
     "output_type": "stream",
     "text": [
      "mergeSort : 99722.0\n",
      "rdxSortTust : 4739738.0\n",
      "scan : 8189983.5\n",
      "SobolQRNG : 3073.0\n",
      "transpose : 1646239.5\n",
      "interval : 209956.0\n",
      "sortNets : 577912.5\n",
      "convFFT2D : 159937.0\n",
      "matrixMul : 609009.5\n",
      "quasiGen : 85393.0\n",
      "MC_OptP : 7502.0\n",
      "reduction : 402411.5\n",
      "binOpt : 28734.0\n"
     ]
    }
   ],
   "source": [
    "result_dlist = read_file(\"13apps/prof_ovhd_feat64\")\n",
    "\n",
    "for key, value in result_dlist.iteritems():\n",
    "    #print key, value\n",
    "    total = 0.\n",
    "    for v in value:\n",
    "        total = total + float(v[0])\n",
    "    avg_runtime = total / len(value)\n",
    "    print(\"{} : {}\".format(key, avg_runtime))"
   ]
  },
  {
   "cell_type": "markdown",
   "metadata": {
    "collapsed": true
   },
   "source": [
    "### feat26"
   ]
  },
  {
   "cell_type": "code",
   "execution_count": 4,
   "metadata": {},
   "outputs": [
    {
     "name": "stdout",
     "output_type": "stream",
     "text": [
      "mergeSort : 55307.5\n",
      "rdxSortTust : 2277196.0\n",
      "scan : 3720895.5\n",
      "SobolQRNG : 2210.0\n",
      "transpose : 882091.0\n",
      "interval : 114880.5\n",
      "sortNets : 325915.0\n",
      "convFFT2D : 92946.5\n",
      "matrixMul : 330027.5\n",
      "quasiGen : 47963.0\n",
      "MC_OptP : 4359.0\n",
      "reduction : 225959.0\n",
      "binOpt : 27124.0\n"
     ]
    }
   ],
   "source": [
    "result_dlist = read_file(\"13apps/prof_ovhd_feat26\")\n",
    "\n",
    "for key, value in result_dlist.iteritems():\n",
    "    #print key, value\n",
    "    total = 0.\n",
    "    for v in value:\n",
    "        total = total + float(v[0])\n",
    "    avg_runtime = total / len(value)\n",
    "    print(\"{} : {}\".format(key, avg_runtime))"
   ]
  }
 ],
 "metadata": {
  "kernelspec": {
   "display_name": "Python 2",
   "language": "python",
   "name": "python2"
  },
  "language_info": {
   "codemirror_mode": {
    "name": "ipython",
    "version": 2
   },
   "file_extension": ".py",
   "mimetype": "text/x-python",
   "name": "python",
   "nbconvert_exporter": "python",
   "pygments_lexer": "ipython2",
   "version": "2.7.14"
  }
 },
 "nbformat": 4,
 "nbformat_minor": 2
}

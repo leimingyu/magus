{
 "cells": [
  {
   "cell_type": "markdown",
   "metadata": {},
   "source": [
    "# read metrics for the training set (13 cudasdk apps on 1080ti)"
   ]
  },
  {
   "cell_type": "code",
   "execution_count": 1,
   "metadata": {
    "collapsed": true
   },
   "outputs": [],
   "source": [
    "inputFolder = 'metrics'\n",
    "\n",
    "import os\n",
    "import sys # error msg, add the modules\n",
    "sys.path.append('../pycode')\n",
    "from magus import read_trace"
   ]
  },
  {
   "cell_type": "code",
   "execution_count": 4,
   "metadata": {},
   "outputs": [
    {
     "data": {
      "text/plain": [
       "['quasirandomGenerator_metrics.csv',\n",
       " 'MC_SingleAsianOptionP_metrics.csv',\n",
       " 'SobolQRNG_metrics.csv',\n",
       " 'convolutionFFT2D_metrics.csv',\n",
       " 'binomialOptions_metrics.csv',\n",
       " 'sortingNetworks_metrics.csv',\n",
       " 'transpose_metrics.csv',\n",
       " 'reduction_metrics.csv',\n",
       " 'radixSortThrust_metrics.csv',\n",
       " 'matrixMul_metrics.csv',\n",
       " 'interval_metrics.csv',\n",
       " 'mergeSort_metrics.csv',\n",
       " 'scan_metrics.csv']"
      ]
     },
     "execution_count": 4,
     "metadata": {},
     "output_type": "execute_result"
    }
   ],
   "source": [
    "appTrace = os.listdir(inputFolder)\n",
    "appTrace"
   ]
  },
  {
   "cell_type": "markdown",
   "metadata": {},
   "source": [
    "### extract architecture metrics"
   ]
  },
  {
   "cell_type": "code",
   "execution_count": 5,
   "metadata": {},
   "outputs": [
    {
     "ename": "NameError",
     "evalue": "name 'codecs' is not defined",
     "output_type": "error",
     "traceback": [
      "\u001b[0;31m---------------------------------------------------------------------------\u001b[0m",
      "\u001b[0;31mNameError\u001b[0m                                 Traceback (most recent call last)",
      "\u001b[0;32m<ipython-input-5-c219d700eb69>\u001b[0m in \u001b[0;36m<module>\u001b[0;34m()\u001b[0m\n\u001b[1;32m      9\u001b[0m     \u001b[0mmetricsAll\u001b[0m\u001b[0;34m[\u001b[0m\u001b[0mgpuArch\u001b[0m\u001b[0;34m]\u001b[0m \u001b[0;34m=\u001b[0m \u001b[0mlist\u001b[0m\u001b[0;34m(\u001b[0m\u001b[0mdf_app\u001b[0m\u001b[0;34m[\u001b[0m\u001b[0;34m'Metric Name'\u001b[0m\u001b[0;34m]\u001b[0m\u001b[0;34m.\u001b[0m\u001b[0munique\u001b[0m\u001b[0;34m(\u001b[0m\u001b[0;34m)\u001b[0m\u001b[0;34m)\u001b[0m\u001b[0;34m\u001b[0m\u001b[0m\n\u001b[1;32m     10\u001b[0m     \u001b[0;31m#print type(metricsAll[gpuArch])\u001b[0m\u001b[0;34m\u001b[0m\u001b[0;34m\u001b[0m\u001b[0m\n\u001b[0;32m---> 11\u001b[0;31m     \u001b[0;32mwith\u001b[0m \u001b[0mcodecs\u001b[0m\u001b[0;34m.\u001b[0m\u001b[0mopen\u001b[0m\u001b[0;34m(\u001b[0m\u001b[0mgpuArch\u001b[0m \u001b[0;34m+\u001b[0m\u001b[0;34m'_metrics.json'\u001b[0m\u001b[0;34m,\u001b[0m \u001b[0;34m'w'\u001b[0m\u001b[0;34m,\u001b[0m \u001b[0mencoding\u001b[0m\u001b[0;34m=\u001b[0m\u001b[0;34m'utf-8'\u001b[0m\u001b[0;34m)\u001b[0m \u001b[0;32mas\u001b[0m \u001b[0moutfile\u001b[0m\u001b[0;34m:\u001b[0m\u001b[0;34m\u001b[0m\u001b[0m\n\u001b[0m\u001b[1;32m     12\u001b[0m         \u001b[0mjson\u001b[0m\u001b[0;34m.\u001b[0m\u001b[0mdump\u001b[0m\u001b[0;34m(\u001b[0m\u001b[0mmetricsAll\u001b[0m\u001b[0;34m,\u001b[0m \u001b[0moutfile\u001b[0m\u001b[0;34m,\u001b[0m \u001b[0mensure_ascii\u001b[0m\u001b[0;34m=\u001b[0m\u001b[0mFalse\u001b[0m\u001b[0;34m)\u001b[0m\u001b[0;34m\u001b[0m\u001b[0m\n\u001b[1;32m     13\u001b[0m \u001b[0;34m\u001b[0m\u001b[0m\n",
      "\u001b[0;31mNameError\u001b[0m: name 'codecs' is not defined"
     ]
    }
   ],
   "source": [
    "# 1080ti: pascal\n",
    "gpuArch = 'pascal'\n",
    "for currentFile in appTrace:\n",
    "    file_csv = inputFolder + '/' + currentFile \n",
    "    df_app = read_trace(file_csv)\n",
    "    #print df_app\n",
    "    kernelList = df_app['Kernel'].unique()\n",
    "    metricsAll = {}\n",
    "    metricsAll[gpuArch] = list(df_app['Metric Name'].unique())\n",
    "    #print type(metricsAll[gpuArch])\n",
    "    with codecs.open(gpuArch +'_metrics.json', 'w', encoding='utf-8') as outfile:\n",
    "        json.dump(metricsAll, outfile, ensure_ascii=False)\n",
    "        \n",
    "    break"
   ]
  }
 ],
 "metadata": {
  "kernelspec": {
   "display_name": "Python 2",
   "language": "python",
   "name": "python2"
  },
  "language_info": {
   "codemirror_mode": {
    "name": "ipython",
    "version": 2
   },
   "file_extension": ".py",
   "mimetype": "text/x-python",
   "name": "python",
   "nbconvert_exporter": "python",
   "pygments_lexer": "ipython2",
   "version": "2.7.14"
  }
 },
 "nbformat": 4,
 "nbformat_minor": 2
}

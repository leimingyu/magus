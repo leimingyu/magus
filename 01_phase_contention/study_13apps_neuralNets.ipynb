{
 "cells": [
  {
   "cell_type": "code",
   "execution_count": 1,
   "metadata": {},
   "outputs": [],
   "source": [
    "%load_ext autoreload\n",
    "%autoreload 2\n",
    "\n",
    "import os\n",
    "import sys # error msg, add the modules\n",
    "\n",
    "import pandas as pd\n",
    "import numpy as np\n",
    "import operator\n",
    "import copy\n",
    "\n",
    "sys.path.append(\"../pycode/\")\n",
    "from magus_util import read_nvprof_trace, parse_nvprof_trace, getruntime, sort_dict_by_val, genNNFeat\n",
    "from magus_contention import *\n",
    "\n",
    "from sklearn.ensemble import ExtraTreesClassifier\n",
    "from sklearn.datasets import load_iris\n",
    "from sklearn.feature_selection import SelectFromModel"
   ]
  },
  {
   "cell_type": "code",
   "execution_count": 2,
   "metadata": {},
   "outputs": [
    {
     "name": "stdout",
     "output_type": "stream",
     "text": [
      "['binopt_trace.csv', 'sortingNetworks_trace.csv', 'transpose_trace.csv', 'SobolQRNG_trace.csv', 'reduction_trace.csv', 'matrixMul_trace.csv', 'MC_SingleAsianOptionP_trace.csv', 'mergeSort_trace.csv', 'interval_trace.csv', 'quasirandomGenerator_trace.csv', 'convolutionFFT2D_trace.csv', 'radixSortThrust_trace.csv', 'scan_trace.csv']\n"
     ]
    }
   ],
   "source": [
    "traceFolder = \"./test_files\"\n",
    "appTraces = os.listdir(traceFolder)\n",
    "print appTraces"
   ]
  },
  {
   "cell_type": "code",
   "execution_count": 3,
   "metadata": {},
   "outputs": [
    {
     "name": "stdout",
     "output_type": "stream",
     "text": [
      "binopt\n",
      "sortingNetworks\n",
      "transpose\n",
      "SobolQRNG\n",
      "reduction\n",
      "matrixMul\n",
      "MC_SingleAsianOptionP\n",
      "mergeSort\n",
      "interval\n",
      "quasirandomGenerator\n",
      "convolutionFFT2D\n",
      "radixSortThrust\n",
      "scan\n"
     ]
    }
   ],
   "source": [
    "app_feat_array = None\n",
    "app_rowid_dict = {}\n",
    "\n",
    "appTraceDict = {}\n",
    "\n",
    "for i, eachAppTrace in enumerate(appTraces):\n",
    "    appName = eachAppTrace[:-10]\n",
    "    print appName\n",
    "    file_csv = traceFolder + '/' + eachAppTrace \n",
    "    #print file_csv\n",
    "    df_trace = read_nvprof_trace(file_csv)\n",
    "    appTraceList = parse_nvprof_trace(df_trace)\n",
    "    #print appTraceList\n",
    "    appTraceDict[appName] = appTraceList\n",
    "    \n",
    "    if i == 0:\n",
    "        app_feat_array = genNNFeat(appTraceList)\n",
    "    else:\n",
    "        app_feat_array = np.vstack((app_feat_array, genNNFeat(appTraceList)))\n",
    "        \n",
    "    app_rowid_dict[appName] = i"
   ]
  },
  {
   "cell_type": "code",
   "execution_count": 4,
   "metadata": {},
   "outputs": [
    {
     "data": {
      "text/plain": [
       "[['h2d', 566.138617, 566.141849, 0.0, 0.0, 0.0, 0.0],\n",
       " ['kern', 566.150169, 575.913912, 1024.0, 128.0, 32.0, 516.0],\n",
       " ['d2h', 575.915512, 575.917496, 0.0, 0.0, 0.0, 0.0]]"
      ]
     },
     "execution_count": 4,
     "metadata": {},
     "output_type": "execute_result"
    }
   ],
   "source": [
    "appTrace = appTraceDict['binopt']\n",
    "appTrace"
   ]
  },
  {
   "cell_type": "code",
   "execution_count": 5,
   "metadata": {},
   "outputs": [
    {
     "data": {
      "text/plain": [
       "(13, 45)"
      ]
     },
     "execution_count": 5,
     "metadata": {},
     "output_type": "execute_result"
    }
   ],
   "source": [
    "app_feat_array.shape"
   ]
  },
  {
   "cell_type": "code",
   "execution_count": 6,
   "metadata": {},
   "outputs": [
    {
     "data": {
      "text/plain": [
       "{'MC_SingleAsianOptionP': 6,\n",
       " 'SobolQRNG': 3,\n",
       " 'binopt': 0,\n",
       " 'convolutionFFT2D': 10,\n",
       " 'interval': 8,\n",
       " 'matrixMul': 5,\n",
       " 'mergeSort': 7,\n",
       " 'quasirandomGenerator': 9,\n",
       " 'radixSortThrust': 11,\n",
       " 'reduction': 4,\n",
       " 'scan': 12,\n",
       " 'sortingNetworks': 1,\n",
       " 'transpose': 2}"
      ]
     },
     "execution_count": 6,
     "metadata": {},
     "output_type": "execute_result"
    }
   ],
   "source": [
    "# row index in app_feat_array[]\n",
    "app_rowid_dict"
   ]
  },
  {
   "cell_type": "markdown",
   "metadata": {},
   "source": [
    "### Ground Truth"
   ]
  },
  {
   "cell_type": "code",
   "execution_count": 7,
   "metadata": {},
   "outputs": [
    {
     "name": "stdout",
     "output_type": "stream",
     "text": [
      "[u'mergeSort', u'reduction', 1]\n",
      "[u'mergeSort', u'SobolQRNG', 0]\n",
      "[u'mergeSort', u'scan', 0]\n",
      "[u'mergeSort', u'matrixMul', 0]\n",
      "[u'mergeSort', u'convfft2d', 1]\n",
      "[u'mergeSort', u'quasirandomGenerator', 1]\n",
      "[u'mergeSort', u'binopt', 1]\n",
      "[u'mergeSort', u'interval', 0]\n",
      "[u'mergeSort', u'MCSingleAsianOptionP', 0]\n",
      "[u'mergeSort', u'transpose', 0]\n",
      "[u'mergeSort', u'radixSortThrust', 1]\n",
      "[u'mergeSort', u'sortingNetworks', 1]\n",
      "[u'radixSortThrust', u'scan', 0]\n",
      "[u'radixSortThrust', u'reduction', 0]\n",
      "[u'radixSortThrust', u'mergeSort', 1]\n",
      "[u'radixSortThrust', u'interval', 1]\n",
      "[u'radixSortThrust', u'matrixMul', 1]\n",
      "[u'radixSortThrust', u'SobolQRNG', 1]\n",
      "[u'radixSortThrust', u'transpose', 1]\n",
      "[u'radixSortThrust', u'sortingNetworks', 1]\n",
      "[u'radixSortThrust', u'binopt', 1]\n",
      "[u'radixSortThrust', u'convfft2d', 1]\n",
      "[u'radixSortThrust', u'quasirandomGenerator', 1]\n",
      "[u'radixSortThrust', u'MCSingleAsianOptionP', 0]\n",
      "[u'scan', u'MCSingleAsianOptionP', 0]\n",
      "[u'scan', u'convfft2d', 1]\n",
      "[u'scan', u'interval', 1]\n",
      "[u'scan', u'reduction', 0]\n",
      "[u'scan', u'radixSortThrust', 0]\n",
      "[u'scan', u'transpose', 0]\n",
      "[u'scan', u'quasirandomGenerator', 1]\n",
      "[u'scan', u'SobolQRNG', 1]\n",
      "[u'scan', u'mergeSort', 0]\n",
      "[u'scan', u'matrixMul', 0]\n",
      "[u'scan', u'binopt', 1]\n",
      "[u'scan', u'sortingNetworks', 1]\n",
      "[u'SobolQRNG', u'mergeSort', 1]\n",
      "[u'SobolQRNG', u'quasirandomGenerator', 0]\n",
      "[u'SobolQRNG', u'matrixMul', 0]\n",
      "[u'SobolQRNG', u'reduction', 1]\n",
      "[u'SobolQRNG', u'interval', 0]\n",
      "[u'SobolQRNG', u'scan', 1]\n",
      "[u'SobolQRNG', u'sortingNetworks', 0]\n",
      "[u'SobolQRNG', u'radixSortThrust', 1]\n",
      "[u'SobolQRNG', u'MCSingleAsianOptionP', 0]\n",
      "[u'SobolQRNG', u'convfft2d', 0]\n",
      "[u'SobolQRNG', u'binopt', 0]\n",
      "[u'SobolQRNG', u'transpose', 0]\n",
      "[u'transpose', u'convfft2d', 0]\n",
      "[u'transpose', u'SobolQRNG', 0]\n",
      "[u'transpose', u'reduction', 1]\n",
      "[u'transpose', u'MCSingleAsianOptionP', 0]\n",
      "[u'transpose', u'interval', 0]\n",
      "[u'transpose', u'binopt', 0]\n",
      "[u'transpose', u'mergeSort', 0]\n",
      "[u'transpose', u'scan', 0]\n",
      "[u'transpose', u'matrixMul', 0]\n",
      "[u'transpose', u'sortingNetworks', 0]\n",
      "[u'transpose', u'radixSortThrust', 1]\n",
      "[u'transpose', u'quasirandomGenerator', 0]\n",
      "[u'interval', u'radixSortThrust', 1]\n",
      "[u'interval', u'convfft2d', 1]\n",
      "[u'interval', u'reduction', 1]\n",
      "[u'interval', u'MCSingleAsianOptionP', 0]\n",
      "[u'interval', u'binopt', 1]\n",
      "[u'interval', u'mergeSort', 0]\n",
      "[u'interval', u'SobolQRNG', 0]\n",
      "[u'interval', u'scan', 1]\n",
      "[u'interval', u'matrixMul', 0]\n",
      "[u'interval', u'quasirandomGenerator', 1]\n",
      "[u'interval', u'sortingNetworks', 1]\n",
      "[u'interval', u'transpose', 0]\n",
      "[u'binopt', u'reduction', 1]\n",
      "[u'binopt', u'radixSortThrust', 1]\n",
      "[u'binopt', u'sortingNetworks', 1]\n",
      "[u'binopt', u'MCSingleAsianOptionP', 0]\n",
      "[u'binopt', u'transpose', 0]\n",
      "[u'binopt', u'interval', 1]\n",
      "[u'binopt', u'convfft2d', 1]\n",
      "[u'binopt', u'scan', 1]\n",
      "[u'binopt', u'matrixMul', 0]\n",
      "[u'binopt', u'quasirandomGenerator', 1]\n",
      "[u'binopt', u'SobolQRNG', 0]\n",
      "[u'binopt', u'mergeSort', 1]\n",
      "[u'matrixMul', u'binopt', 0]\n",
      "[u'matrixMul', u'SobolQRNG', 0]\n",
      "[u'matrixMul', u'radixSortThrust', 1]\n",
      "[u'matrixMul', u'transpose', 0]\n",
      "[u'matrixMul', u'quasirandomGenerator', 0]\n",
      "[u'matrixMul', u'interval', 0]\n",
      "[u'matrixMul', u'sortingNetworks', 0]\n",
      "[u'matrixMul', u'scan', 0]\n",
      "[u'matrixMul', u'reduction', 0]\n",
      "[u'matrixMul', u'MCSingleAsianOptionP', 0]\n",
      "[u'matrixMul', u'convfft2d', 0]\n",
      "[u'matrixMul', u'mergeSort', 0]\n",
      "[u'quasirandomGenerator', u'mergeSort', 1]\n",
      "[u'quasirandomGenerator', u'reduction', 1]\n",
      "[u'quasirandomGenerator', u'sortingNetworks', 1]\n",
      "[u'quasirandomGenerator', u'interval', 1]\n",
      "[u'quasirandomGenerator', u'binopt', 1]\n",
      "[u'quasirandomGenerator', u'scan', 1]\n",
      "[u'quasirandomGenerator', u'transpose', 0]\n",
      "[u'quasirandomGenerator', u'SobolQRNG', 0]\n",
      "[u'quasirandomGenerator', u'convfft2d', 1]\n",
      "[u'quasirandomGenerator', u'matrixMul', 0]\n",
      "[u'quasirandomGenerator', u'radixSortThrust', 1]\n",
      "[u'quasirandomGenerator', u'MCSingleAsianOptionP', 0]\n",
      "[u'reduction', u'scan', 0]\n",
      "[u'reduction', u'matrixMul', 1]\n",
      "[u'reduction', u'binopt', 1]\n",
      "[u'reduction', u'interval', 1]\n",
      "[u'reduction', u'mergeSort', 1]\n",
      "[u'reduction', u'quasirandomGenerator', 1]\n",
      "[u'reduction', u'convfft2d', 1]\n",
      "[u'reduction', u'radixSortThrust', 0]\n",
      "[u'reduction', u'SobolQRNG', 1]\n",
      "[u'reduction', u'sortingNetworks', 1]\n",
      "[u'reduction', u'MCSingleAsianOptionP', 0]\n",
      "[u'reduction', u'transpose', 1]\n",
      "[u'convfft2d', u'interval', 1]\n",
      "[u'convfft2d', u'MCSingleAsianOptionP', 0]\n",
      "[u'convfft2d', u'reduction', 1]\n",
      "[u'convfft2d', u'quasirandomGenerator', 1]\n",
      "[u'convfft2d', u'mergeSort', 1]\n",
      "[u'convfft2d', u'radixSortThrust', 1]\n",
      "[u'convfft2d', u'binopt', 1]\n",
      "[u'convfft2d', u'matrixMul', 0]\n",
      "[u'convfft2d', u'sortingNetworks', 1]\n",
      "[u'convfft2d', u'transpose', 0]\n",
      "[u'convfft2d', u'SobolQRNG', 0]\n",
      "[u'convfft2d', u'scan', 1]\n",
      "[u'MCSingleAsianOptionP', u'transpose', 0]\n",
      "[u'MCSingleAsianOptionP', u'convfft2d', 0]\n",
      "[u'MCSingleAsianOptionP', u'radixSortThrust', 1]\n",
      "[u'MCSingleAsianOptionP', u'binopt', 0]\n",
      "[u'MCSingleAsianOptionP', u'SobolQRNG', 0]\n",
      "[u'MCSingleAsianOptionP', u'scan', 0]\n",
      "[u'MCSingleAsianOptionP', u'quasirandomGenerator', 0]\n",
      "[u'MCSingleAsianOptionP', u'mergeSort', 0]\n",
      "[u'MCSingleAsianOptionP', u'sortingNetworks', 0]\n",
      "[u'MCSingleAsianOptionP', u'matrixMul', 0]\n",
      "[u'MCSingleAsianOptionP', u'interval', 0]\n",
      "[u'MCSingleAsianOptionP', u'reduction', 0]\n",
      "[u'sortingNetworks', u'interval', 1]\n",
      "[u'sortingNetworks', u'radixSortThrust', 1]\n",
      "[u'sortingNetworks', u'mergeSort', 1]\n",
      "[u'sortingNetworks', u'scan', 1]\n",
      "[u'sortingNetworks', u'reduction', 1]\n",
      "[u'sortingNetworks', u'SobolQRNG', 0]\n",
      "[u'sortingNetworks', u'MCSingleAsianOptionP', 0]\n",
      "[u'sortingNetworks', u'quasirandomGenerator', 1]\n",
      "[u'sortingNetworks', u'convfft2d', 1]\n",
      "[u'sortingNetworks', u'binopt', 1]\n",
      "[u'sortingNetworks', u'transpose', 0]\n",
      "[u'sortingNetworks', u'matrixMul', 0]\n"
     ]
    }
   ],
   "source": [
    "#\n",
    "# Measure the performance for the combination of running two applications concurrently the same gpu\n",
    "#\n",
    "import json\n",
    "\n",
    "with open('../00_featSel/contention_tests/combo_truth.json') as json_file:  \n",
    "    combo_list = json.load(json_file)\n",
    "    \n",
    "unique_appName = set()\n",
    "for eachCombo in combo_list:\n",
    "    print eachCombo\n",
    "    unique_appName.add(eachCombo[0])"
   ]
  },
  {
   "cell_type": "code",
   "execution_count": 8,
   "metadata": {},
   "outputs": [
    {
     "name": "stdout",
     "output_type": "stream",
     "text": [
      "mergeSort\n",
      "radixSortThrust\n",
      "scan\n",
      "SobolQRNG\n",
      "interval\n",
      "transpose\n",
      "matrixMul\n",
      "quasirandomGenerator\n",
      "reduction\n",
      "binopt\n",
      "[Warning] convolutionFFT2D is not in the same app name.\n",
      "[Warning] MC_SingleAsianOptionP is not in the same app name.\n",
      "sortingNetworks\n"
     ]
    }
   ],
   "source": [
    "for key, value in app_rowid_dict.iteritems():\n",
    "    if key in unique_appName:\n",
    "        print key\n",
    "    else:\n",
    "        print(\"[Warning] {} is not in the same app name.\".format(key))\n",
    "\n",
    "        \n",
    "# MC_SingleAsianOptionP -> MCSingleAsianOptionP \n",
    "# convolutionFFT2D -> convfft2d"
   ]
  },
  {
   "cell_type": "markdown",
   "metadata": {},
   "source": [
    "### Build training set"
   ]
  },
  {
   "cell_type": "code",
   "execution_count": 9,
   "metadata": {},
   "outputs": [
    {
     "data": {
      "text/plain": [
       "156"
      ]
     },
     "execution_count": 9,
     "metadata": {},
     "output_type": "execute_result"
    }
   ],
   "source": [
    "len(combo_list)"
   ]
  },
  {
   "cell_type": "code",
   "execution_count": 10,
   "metadata": {},
   "outputs": [],
   "source": [
    "X_input = None\n",
    "y_label = np.zeros(len(combo_list), dtype=np.int32)\n",
    "\n",
    "count = 0\n",
    "for eachCombo in combo_list:\n",
    "    [app1, app2, goodCombo]= eachCombo\n",
    "    #print app1, app2, goodCombo\n",
    "    \n",
    "    if app1 == \"MCSingleAsianOptionP\": app1 = \"MC_SingleAsianOptionP\"\n",
    "    if app1 == \"convfft2d\":            app1 = \"convolutionFFT2D\"\n",
    "    \n",
    "    if app2 == \"MCSingleAsianOptionP\": app2 = \"MC_SingleAsianOptionP\"\n",
    "    if app2 == \"convfft2d\":            app2 = \"convolutionFFT2D\"\n",
    "        \n",
    "    row1 = app_rowid_dict[app1]\n",
    "    row2 = app_rowid_dict[app2]\n",
    "    \n",
    "    arr1 = app_feat_array[row1]\n",
    "    arr2 = app_feat_array[row2]\n",
    "\n",
    "    currentCombo = np.append(arr1, arr2)\n",
    "    \n",
    "    if count == 0:\n",
    "        X_input = currentCombo\n",
    "    else:\n",
    "        X_input = np.vstack((X_input, currentCombo))\n",
    "        \n",
    "    y_label[count] = int(goodCombo)\n",
    "    \n",
    "    count = count + 1"
   ]
  },
  {
   "cell_type": "code",
   "execution_count": 11,
   "metadata": {},
   "outputs": [
    {
     "name": "stdout",
     "output_type": "stream",
     "text": [
      "(156, 90)\n",
      "(156,)\n"
     ]
    }
   ],
   "source": [
    "print X_input.shape\n",
    "print y_label.shape"
   ]
  },
  {
   "cell_type": "code",
   "execution_count": 12,
   "metadata": {},
   "outputs": [
    {
     "name": "stdout",
     "output_type": "stream",
     "text": [
      "[u'mergeSort', u'reduction', 1]\n",
      "1\n"
     ]
    }
   ],
   "source": [
    "print combo_list[0]\n",
    "print y_label[0]"
   ]
  },
  {
   "cell_type": "code",
   "execution_count": 13,
   "metadata": {},
   "outputs": [
    {
     "name": "stdout",
     "output_type": "stream",
     "text": [
      "[u'sortingNetworks', u'matrixMul', 0]\n",
      "0\n"
     ]
    }
   ],
   "source": [
    "print combo_list[-1]\n",
    "print y_label[-1]"
   ]
  },
  {
   "cell_type": "markdown",
   "metadata": {},
   "source": [
    "### Build NN Model"
   ]
  },
  {
   "cell_type": "code",
   "execution_count": 14,
   "metadata": {},
   "outputs": [
    {
     "data": {
      "text/plain": [
       "array([1, 0, 0, 0, 1, 1, 1, 0, 0, 0, 1, 1, 0, 0, 1, 1, 1, 1, 1, 1, 1, 1, 1,\n",
       "       0, 0, 1, 1, 0, 0, 0, 1, 1, 0, 0, 1, 1, 1, 0, 0, 1, 0, 1, 0, 1, 0, 0,\n",
       "       0, 0, 0, 0, 1, 0, 0, 0, 0, 0, 0, 0, 1, 0, 1, 1, 1, 0, 1, 0, 0, 1, 0,\n",
       "       1, 1, 0, 1, 1, 1, 0, 0, 1, 1, 1, 0, 1, 0, 1, 0, 0, 1, 0, 0, 0, 0, 0,\n",
       "       0, 0, 0, 0, 1, 1, 1, 1, 1, 1, 0, 0, 1, 0, 1, 0, 0, 1, 1, 1, 1, 1, 1,\n",
       "       0, 1, 1, 0, 1, 1, 0, 1, 1, 1, 1, 1, 0, 1, 0, 0, 1, 0, 0, 1, 0, 0, 0,\n",
       "       0, 0, 0, 0, 0, 0, 1, 1, 1, 1, 1, 0, 0, 1, 1, 1, 0, 0], dtype=int32)"
      ]
     },
     "execution_count": 14,
     "metadata": {},
     "output_type": "execute_result"
    }
   ],
   "source": [
    "y_label"
   ]
  },
  {
   "cell_type": "code",
   "execution_count": 15,
   "metadata": {},
   "outputs": [
    {
     "data": {
      "text/plain": [
       "(156, 90)"
      ]
     },
     "execution_count": 15,
     "metadata": {},
     "output_type": "execute_result"
    }
   ],
   "source": [
    "X_input.shape"
   ]
  },
  {
   "cell_type": "code",
   "execution_count": 16,
   "metadata": {},
   "outputs": [
    {
     "data": {
      "text/plain": [
       "156"
      ]
     },
     "execution_count": 16,
     "metadata": {},
     "output_type": "execute_result"
    }
   ],
   "source": [
    "X_input.shape[0]"
   ]
  },
  {
   "cell_type": "code",
   "execution_count": 17,
   "metadata": {},
   "outputs": [],
   "source": [
    "import numpy as np                                                              \n",
    "import tensorflow as tf"
   ]
  },
  {
   "cell_type": "code",
   "execution_count": 18,
   "metadata": {},
   "outputs": [],
   "source": [
    "# to make this notebook's output stable across runs\n",
    "def reset_graph(seed=42):\n",
    "    tf.reset_default_graph()\n",
    "    tf.set_random_seed(seed)\n",
    "    np.random.seed(seed)"
   ]
  },
  {
   "cell_type": "code",
   "execution_count": 19,
   "metadata": {},
   "outputs": [],
   "source": [
    "reset_graph()"
   ]
  },
  {
   "cell_type": "code",
   "execution_count": 20,
   "metadata": {},
   "outputs": [],
   "source": [
    "from functools import partial\n",
    "\n",
    "\n",
    "n_inputs = 90\n",
    "n_hidden1 = 100\n",
    "n_hidden2 = 100\n",
    "n_hidden3 = 100\n",
    "n_hidden4 = 100\n",
    "n_hidden5 = 100\n",
    "n_hidden6 = 100\n",
    "n_hidden7 = 100\n",
    "n_hidden8 = 100\n",
    "n_hidden9 = 100\n",
    "n_hidden10 = 100\n",
    "n_outputs = 2 # good (1) or bad (0)\n",
    "\n",
    "\n",
    "X = tf.placeholder(tf.float32, shape=(None, n_inputs), name=\"X\")\n",
    "y = tf.placeholder(tf.int32, shape=(None), name=\"y\")\n",
    "\n",
    "training = tf.placeholder_with_default(False, shape=(), name='training')\n",
    "batch_norm_momentum = 0.9\n",
    "learning_rate = 0.01\n",
    "\n",
    "with tf.name_scope(\"dnn\"):\n",
    "    he_init = tf.contrib.layers.variance_scaling_initializer()\n",
    "    \n",
    "    # avoid repeating the same parameters over and over again\n",
    "    my_batch_norm_layer = partial(tf.layers.batch_normalization,\n",
    "            training=training, momentum=batch_norm_momentum)\n",
    "    \n",
    "    my_dense_layer = partial(tf.layers.dense, kernel_initializer=he_init) # activeFunc after BN\n",
    "    \n",
    "    hidden1 = my_dense_layer(X, n_hidden1, name=\"hidden1\")\n",
    "    bn1= my_batch_norm_layer(hidden1)\n",
    "    bn1_act = tf.nn.elu(bn1)\n",
    "    \n",
    "    hidden2 = my_dense_layer(bn1_act, n_hidden2, name=\"hidden2\")\n",
    "    bn2 = my_batch_norm_layer(hidden2)\n",
    "    bn2_act = tf.nn.elu(bn2)\n",
    "    \n",
    "    hidden3 = my_dense_layer(bn2_act, n_hidden3, name=\"hidden3\")\n",
    "    bn3 = my_batch_norm_layer(hidden3)\n",
    "    bn3_act = tf.nn.elu(bn3)\n",
    "\n",
    "    hidden4 = my_dense_layer(bn3_act, n_hidden4, name=\"hidden4\")\n",
    "    bn4_act = tf.nn.elu(my_batch_norm_layer(hidden4))\n",
    "    \n",
    "    hidden5 = my_dense_layer(bn4_act, n_hidden5, name=\"hidden5\")\n",
    "    bn5_act = tf.nn.elu(my_batch_norm_layer(hidden5))\n",
    "    \n",
    "    hidden6 = my_dense_layer(bn5_act, n_hidden6, name=\"hidden6\")\n",
    "    bn6_act = tf.nn.elu(my_batch_norm_layer(hidden6))\n",
    "    \n",
    "    hidden7 = my_dense_layer(bn6_act, n_hidden7, name=\"hidden7\")\n",
    "    bn7_act = tf.nn.elu(my_batch_norm_layer(hidden7))\n",
    "    \n",
    "    hidden8 = my_dense_layer(bn7_act, n_hidden8, name=\"hidden8\")\n",
    "    bn8_act = tf.nn.elu(my_batch_norm_layer(hidden8))\n",
    "    \n",
    "    hidden9 = my_dense_layer(bn8_act, n_hidden9, name=\"hidden9\")\n",
    "    bn9_act = tf.nn.elu(my_batch_norm_layer(hidden9))\n",
    "    \n",
    "    hidden10 = my_dense_layer(bn9_act, n_hidden10, name=\"hidden10\")\n",
    "    bn10_act = tf.nn.elu(my_batch_norm_layer(hidden10))\n",
    "    \n",
    "    \n",
    "    logits_before_bn = my_dense_layer(bn10_act, n_outputs, name=\"outputs\")\n",
    "    logits = my_batch_norm_layer(logits_before_bn)\n",
    "\n",
    "    \n",
    "with tf.name_scope(\"loss\"):\n",
    "    xentropy = tf.nn.sparse_softmax_cross_entropy_with_logits(labels=y, logits=logits)\n",
    "    loss = tf.reduce_mean(xentropy, name=\"loss\")\n",
    "\n",
    "with tf.name_scope(\"train\"):\n",
    "    optimizer = tf.train.GradientDescentOptimizer(learning_rate)\n",
    "    training_op = optimizer.minimize(loss)\n",
    "    \n",
    "with tf.name_scope(\"eval\"):\n",
    "    correct = tf.nn.in_top_k(logits, y, 1)\n",
    "    accuracy = tf.reduce_mean(tf.cast(correct, tf.float32))\n",
    "    \n",
    "init = tf.global_variables_initializer()\n",
    "saver = tf.train.Saver()\n",
    "\n",
    "n_epochs = 100\n",
    "batch_size = 64"
   ]
  },
  {
   "cell_type": "markdown",
   "metadata": {},
   "source": [
    "### train NN"
   ]
  },
  {
   "cell_type": "code",
   "execution_count": 21,
   "metadata": {},
   "outputs": [],
   "source": [
    "def next_batch(X_input, y_label, batch_size):\n",
    "    samples = X_input.shape[0]\n",
    "    idx = np.arange(0 , samples)\n",
    "    np.random.shuffle(idx)\n",
    "    idx = idx[:batch_size]\n",
    "    \n",
    "    input_shuffle = [X_input[i,:] for i in idx]\n",
    "    label_shuffle = [y_label[i] for i in idx]\n",
    "    \n",
    "    return np.asarray(input_shuffle), np.asarray(label_shuffle)\n",
    "    \n",
    "    \n",
    "# X_batch, y_batch = next_batch(X_input, y_label, batch_size)\n",
    "# print y_batch"
   ]
  },
  {
   "cell_type": "code",
   "execution_count": 22,
   "metadata": {},
   "outputs": [
    {
     "name": "stdout",
     "output_type": "stream",
     "text": [
      "(0, 'Batch accuracy:', 0.453125)\n",
      "(5, 'Batch accuracy:', 0.6875)\n",
      "(10, 'Batch accuracy:', 0.734375)\n",
      "(15, 'Batch accuracy:', 0.8125)\n",
      "(20, 'Batch accuracy:', 0.78125)\n",
      "(25, 'Batch accuracy:', 0.84375)\n",
      "(30, 'Batch accuracy:', 0.765625)\n",
      "(35, 'Batch accuracy:', 0.8125)\n",
      "(40, 'Batch accuracy:', 0.890625)\n",
      "(45, 'Batch accuracy:', 0.9375)\n",
      "(50, 'Batch accuracy:', 0.921875)\n",
      "(55, 'Batch accuracy:', 0.96875)\n",
      "(60, 'Batch accuracy:', 0.96875)\n",
      "(65, 'Batch accuracy:', 0.9375)\n",
      "(70, 'Batch accuracy:', 0.890625)\n",
      "(75, 'Batch accuracy:', 0.984375)\n",
      "(80, 'Batch accuracy:', 0.984375)\n",
      "(85, 'Batch accuracy:', 0.96875)\n",
      "(90, 'Batch accuracy:', 0.984375)\n",
      "(95, 'Batch accuracy:', 0.984375)\n"
     ]
    }
   ],
   "source": [
    "extra_update_ops = tf.get_collection(tf.GraphKeys.UPDATE_OPS)\n",
    "\n",
    "with tf.Session() as sess:\n",
    "    init.run()\n",
    "    for epoch in range(n_epochs):\n",
    "        for iteration in range(X_input.shape[0] // batch_size):\n",
    "            X_batch, y_batch = next_batch(X_input, y_label, batch_size)\n",
    "            sess.run([training_op, extra_update_ops],\n",
    "                     feed_dict={training: True, X: X_batch, y: y_batch})\n",
    "            \n",
    "        if epoch % 5 == 0:\n",
    "            acc_train = accuracy.eval(feed_dict={X: X_batch,\n",
    "                                                 y: y_batch})\n",
    "            \n",
    "            print(epoch, \"Batch accuracy:\", acc_train)\n",
    "\n",
    "    # save the model\n",
    "    save_path = saver.save(sess, \"./my_model_final.ckpt\")"
   ]
  },
  {
   "cell_type": "markdown",
   "metadata": {},
   "source": [
    "### Restore trained model"
   ]
  },
  {
   "cell_type": "code",
   "execution_count": 23,
   "metadata": {},
   "outputs": [
    {
     "name": "stdout",
     "output_type": "stream",
     "text": [
      "INFO:tensorflow:Restoring parameters from ./my_model_final.ckpt\n",
      "[[-0.6312139   0.14674455]\n",
      " [ 0.57953531 -0.41844293]\n",
      " [ 1.37607181 -1.09437823]\n",
      " [ 1.4443891  -0.7199074 ]\n",
      " [-1.26798546  1.58939111]\n",
      " [-0.68992567 -0.03102233]\n",
      " [ 0.33009899  0.60890764]\n",
      " [ 1.35724425 -1.06571829]\n",
      " [ 0.29175171 -0.40774921]\n",
      " [ 0.61251342 -1.84418297]\n",
      " [-1.5248301   1.0131954 ]\n",
      " [-1.73923135  1.88429785]\n",
      " [ 1.00557637 -1.5489434 ]\n",
      " [ 0.62291873 -0.8557173 ]\n",
      " [-1.07816327  1.57876408]\n",
      " [-1.21822333  1.52735198]\n",
      " [-1.15842497  0.78076732]\n",
      " [-0.51624525  1.05309653]\n",
      " [-1.35001647  1.8309375 ]\n",
      " [-1.41794693  1.36636734]\n",
      " [-1.35521913  2.25999236]\n",
      " [-1.03074324  1.59340489]\n",
      " [-0.35610935  0.52346599]\n",
      " [ 0.24891677 -0.51751149]\n",
      " [ 0.66453087  0.40684631]\n",
      " [-1.09040761  1.11814702]\n",
      " [-0.68408132  0.64214128]\n",
      " [ 1.40658522  0.12500617]\n",
      " [ 1.38920653 -1.63846767]\n",
      " [ 0.67208934 -1.68575513]\n",
      " [-0.81189919  0.96679223]\n",
      " [-0.60230434  1.48716152]\n",
      " [ 0.75524688 -1.46280825]\n",
      " [ 1.87033021 -1.14237344]\n",
      " [-1.01619339  1.72788334]\n",
      " [-1.56429422  1.74881148]\n",
      " [-0.45888028  0.66088802]\n",
      " [ 0.63464183 -0.66175336]\n",
      " [ 1.24436712 -1.25212097]\n",
      " [-0.70985532  0.27311432]\n",
      " [ 0.52043903 -0.39987037]\n",
      " [-1.19585967  1.25779009]\n",
      " [ 1.68144989 -0.44871381]\n",
      " [-0.95256639  0.95116985]\n",
      " [ 1.56308377 -1.0463419 ]\n",
      " [ 0.97658861 -0.38226116]\n",
      " [ 0.72966123 -0.69355345]\n",
      " [ 1.2918185  -1.42837214]\n",
      " [ 0.98055804 -1.14926112]\n",
      " [ 1.74535191 -1.31201708]\n",
      " [-0.65297961 -0.54181504]\n",
      " [ 1.10955393 -1.42414379]\n",
      " [ 1.07621264 -1.0522244 ]\n",
      " [ 0.99912608 -0.63491684]\n",
      " [ 1.32493865 -1.60288131]\n",
      " [ 1.29978514 -1.02439213]\n",
      " [ 1.21535313 -1.32117522]\n",
      " [ 1.16963089 -1.81656408]\n",
      " [-0.46761546  1.82139373]\n",
      " [ 0.91955197 -0.98210829]\n",
      " [-1.14717674  1.7114737 ]\n",
      " [-0.73910403  1.38269889]\n",
      " [-1.08433032  1.27043855]\n",
      " [ 0.50985503 -0.12193263]\n",
      " [-1.07610106 -0.14555673]\n",
      " [ 0.55046511 -1.04835451]\n",
      " [ 0.76278591 -1.14891326]\n",
      " [-0.88111615  0.54463607]\n",
      " [ 1.28908968 -1.81546187]\n",
      " [-0.97975039  0.60769802]\n",
      " [-1.04703009  0.94045722]\n",
      " [ 0.96063793 -0.78675824]\n",
      " [-1.86077178  1.1080569 ]\n",
      " [-1.18529677  1.04333711]\n",
      " [-0.38117954  0.53781754]\n",
      " [ 0.40559417 -0.44828212]\n",
      " [ 0.67210746 -1.16981089]\n",
      " [-2.28692508  0.76890749]\n",
      " [-1.1878258   1.11243117]\n",
      " [-2.09621239  1.35713661]\n",
      " [ 1.01118648 -0.70479584]\n",
      " [-0.95663989 -0.1353543 ]\n",
      " [ 1.25577044 -1.29029536]\n",
      " [-0.80959868  1.1430546 ]\n",
      " [ 1.09489214 -1.1776967 ]\n",
      " [ 1.23125958 -1.55169189]\n",
      " [-1.26126194  1.48146594]\n",
      " [ 0.82529354 -1.35834968]\n",
      " [ 1.14270091 -1.75143802]\n",
      " [ 1.13792181 -1.50431335]\n",
      " [ 2.03892374 -1.26522219]\n",
      " [ 1.33576655 -1.19393253]\n",
      " [ 1.53636026 -2.04947495]\n",
      " [ 1.25622523 -1.96298587]\n",
      " [ 1.20790958 -0.92615932]\n",
      " [ 1.00114679 -1.24931931]\n",
      " [-0.66699362  0.84629762]\n",
      " [-1.12606692  0.62791699]\n",
      " [-0.32180575  0.4230057 ]\n",
      " [-0.85845041  0.67340285]\n",
      " [-1.40821028  0.55336976]\n",
      " [-0.51134777  0.77601075]\n",
      " [ 0.64160144 -0.51000583]\n",
      " [ 0.09889847 -0.31014711]\n",
      " [-0.99149227  0.44850111]\n",
      " [ 0.7240572  -1.00444508]\n",
      " [-0.15156871  0.55075371]\n",
      " [-0.00712213 -0.33475277]\n",
      " [ 0.65275884  0.05263995]\n",
      " [-0.08864677 -0.07690629]\n",
      " [-2.19108605  1.31144762]\n",
      " [-1.73923397  1.9803381 ]\n",
      " [-0.76832235  0.2428017 ]\n",
      " [-1.49804008  0.91010696]\n",
      " [-1.75007606  0.66986585]\n",
      " [ 0.40296534 -0.43470773]\n",
      " [-0.72465122  0.39256838]\n",
      " [-0.95925808  0.76745552]\n",
      " [-0.13513064 -0.32815742]\n",
      " [-0.9290204   0.98977363]\n",
      " [-2.10577011  1.77923882]\n",
      " [ 0.2460593   0.01466113]\n",
      " [-0.75613713  1.10950553]\n",
      " [-0.70908606  0.99045134]\n",
      " [-1.08813286  1.96575332]\n",
      " [-1.44417846  0.50020242]\n",
      " [-1.34984541  0.64188945]\n",
      " [ 0.51517391 -0.93490243]\n",
      " [-1.64139295  1.55388331]\n",
      " [ 0.77875948 -0.89008868]\n",
      " [ 0.69558263 -0.34411639]\n",
      " [-1.85325611  0.96828949]\n",
      " [ 0.97173762 -0.71492302]\n",
      " [ 0.58664262 -0.81452382]\n",
      " [-0.25052974  0.36196437]\n",
      " [ 0.14890882 -0.12460996]\n",
      " [ 1.83073294 -1.24627817]\n",
      " [ 0.51880395 -0.04455585]\n",
      " [ 0.60067761 -0.73054177]\n",
      " [ 0.05793685 -0.50636655]\n",
      " [ 0.93248904 -0.63233095]\n",
      " [ 0.72931457 -1.08637106]\n",
      " [ 0.94097984  0.10503424]\n",
      " [ 0.1815322  -0.65078813]\n",
      " [-0.91426587  0.28642452]\n",
      " [-0.57478559  1.77595377]\n",
      " [-1.55625093  1.37469983]\n",
      " [-1.87630785  0.64715165]\n",
      " [-0.80474186  0.47800952]\n",
      " [-0.20227551  0.09270246]\n",
      " [-0.45272115  0.04398933]\n",
      " [-0.79269588  0.55076379]\n",
      " [-1.34082592  1.72431588]\n",
      " [-0.42112228  0.5066728 ]\n",
      " [ 1.14559209 -1.11042535]\n",
      " [ 0.91928089 -1.8836118 ]]\n",
      "[ True  True  True  True  True  True  True  True  True  True  True  True\n",
      "  True  True  True  True  True  True  True  True  True  True  True  True\n",
      "  True  True  True  True  True  True  True  True  True  True  True  True\n",
      "  True  True  True  True  True  True  True  True  True  True  True  True\n",
      "  True  True  True  True  True  True  True  True  True  True  True  True\n",
      "  True  True  True  True  True  True  True  True  True  True  True  True\n",
      "  True  True  True  True  True  True  True  True  True  True  True  True\n",
      "  True  True  True  True  True  True  True  True  True  True  True  True\n",
      "  True  True  True  True  True  True  True  True  True  True  True  True\n",
      "  True  True  True  True  True  True  True  True  True  True  True  True\n",
      "  True  True  True  True  True  True  True  True  True  True  True  True\n",
      "  True  True  True  True  True  True  True  True  True  True  True  True\n",
      "  True  True  True  True  True False False  True  True  True  True  True]\n"
     ]
    }
   ],
   "source": [
    "with tf.Session() as sess:\n",
    "    saver.restore(sess, \"./my_model_final.ckpt\")\n",
    "    logits_pred, correct_pred = sess.run([logits, correct], feed_dict={X: X_input, y: y_label})\n",
    "    print logits_pred\n",
    "    print correct_pred"
   ]
  }
 ],
 "metadata": {
  "kernelspec": {
   "display_name": "Python 2",
   "language": "python",
   "name": "python2"
  },
  "language_info": {
   "codemirror_mode": {
    "name": "ipython",
    "version": 2
   },
   "file_extension": ".py",
   "mimetype": "text/x-python",
   "name": "python",
   "nbconvert_exporter": "python",
   "pygments_lexer": "ipython2",
   "version": "2.7.14"
  }
 },
 "nbformat": 4,
 "nbformat_minor": 2
}

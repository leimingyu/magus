{
 "cells": [
  {
   "cell_type": "code",
   "execution_count": 49,
   "metadata": {
    "collapsed": false
   },
   "outputs": [
    {
     "name": "stdout",
     "output_type": "stream",
     "text": [
      "The autoreload extension is already loaded. To reload it, use:\n",
      "  %reload_ext autoreload\n"
     ]
    }
   ],
   "source": [
    "%load_ext autoreload\n",
    "%autoreload 2\n",
    "\n",
    "import os\n",
    "import sys # error msg, add the modules\n",
    "sys.path.append('../pycode')\n",
    "\n",
    "import json\n",
    "import yaml\n",
    "import numpy as np\n",
    "import pandas as pd\n",
    "from sklearn.feature_selection import VarianceThreshold\n",
    "\n",
    "# read metrics in csv to dataframe\n",
    "from magus import read_trace, convert_metrics"
   ]
  },
  {
   "cell_type": "markdown",
   "metadata": {},
   "source": [
    "### load feature scaling factors"
   ]
  },
  {
   "cell_type": "code",
   "execution_count": null,
   "metadata": {
    "collapsed": true
   },
   "outputs": [],
   "source": []
  },
  {
   "cell_type": "markdown",
   "metadata": {},
   "source": [
    "### PFA determined metrics"
   ]
  },
  {
   "cell_type": "code",
   "execution_count": 9,
   "metadata": {
    "collapsed": false
   },
   "outputs": [
    {
     "name": "stdout",
     "output_type": "stream",
     "text": [
      "Target metrics : 30\n"
     ]
    }
   ],
   "source": [
    "TARGET_METRICS = ['issue_slot_utilization',\n",
    "'double_precision_fu_utilization',\n",
    "'dram_read_throughput',\n",
    "'local_load_throughput',\n",
    "'inst_executed',\n",
    "'gst_efficiency',\n",
    "'dram_read_transactions',\n",
    "'shared_load_transactions',\n",
    "'local_store_transactions_per_request',\n",
    "'global_hit_rate',\n",
    "'cf_fu_utilization',\n",
    "'achieved_occupancy',\n",
    "'single_precision_fu_utilization',\n",
    "'special_fu_utilization',\n",
    "'inst_misc',\n",
    "'flop_count_dp_mul',\n",
    "'local_store_throughput',\n",
    "'local_load_transactions_per_request',\n",
    "'gld_transactions',\n",
    "'tex_utilization',\n",
    "'inst_issued',\n",
    "'ipc',\n",
    "'flop_count_sp_fma',\n",
    "'local_store_transactions',\n",
    "'sm_efficiency',\n",
    "'inst_compute_ld_st',\n",
    "'tex_cache_throughput',\n",
    "'gst_throughput',\n",
    "'gst_requested_throughput',\n",
    "'inst_fp_64'\n",
    "]\n",
    "\n",
    "print('Target metrics : {}'.format(len(TARGET_METRICS)))"
   ]
  },
  {
   "cell_type": "markdown",
   "metadata": {},
   "source": [
    "### read sdk profiled metrics "
   ]
  },
  {
   "cell_type": "code",
   "execution_count": 54,
   "metadata": {
    "collapsed": false
   },
   "outputs": [
    {
     "name": "stdout",
     "output_type": "stream",
     "text": [
      "part_sdk_metrics/binomialOptions_metrics.csv\n",
      "issue_slot_utilization\n",
      "For issue_slot_utilization, the max value is 0.81359611.\n"
     ]
    }
   ],
   "source": [
    "metricsFolder = 'part_sdk_metrics'\n",
    "\n",
    "appTrace = os.listdir(metricsFolder)\n",
    "\n",
    "app_metrics_dd = {}\n",
    "\n",
    "for currentFile in appTrace:\n",
    "    # read the csv files in the metrics folder\n",
    "    file_csv = metricsFolder + '/' + currentFile\n",
    "    print file_csv\n",
    "    appName = currentFile[:-12]\n",
    "    #print appName\n",
    "    \n",
    "    # read metrics in csv\n",
    "    df_app = read_trace(file_csv)\n",
    "    \n",
    "    kernelList = df_app['Kernel'].unique()\n",
    "    #print kernelList\n",
    "    \n",
    "    # extract the desired feature metrics\n",
    "    # apply max() \n",
    "    for eachMetric in TARGET_METRICS:\n",
    "        print eachMetric        \n",
    "        #\n",
    "        # normalize with the magnitude of feature scaling in 01_feature_selection\n",
    "        #\n",
    "        adjustedMetricVal = convert_metrics_with_max(df_app, eachMetric)\n",
    "        #print adjustedMetricVal\n",
    "        \n",
    "        \n",
    "        \n",
    "        \n",
    "        #\n",
    "        # update with the \n",
    "        # \n",
    "        \n",
    "        \n",
    "        break\n",
    "    \n",
    "    \n",
    "    \n",
    "    break\n"
   ]
  }
 ],
 "metadata": {
  "kernelspec": {
   "display_name": "Python [conda root]",
   "language": "python",
   "name": "conda-root-py"
  },
  "language_info": {
   "codemirror_mode": {
    "name": "ipython",
    "version": 2
   },
   "file_extension": ".py",
   "mimetype": "text/x-python",
   "name": "python",
   "nbconvert_exporter": "python",
   "pygments_lexer": "ipython2",
   "version": "2.7.13"
  }
 },
 "nbformat": 4,
 "nbformat_minor": 2
}

{
 "cells": [
  {
   "cell_type": "code",
   "execution_count": 1,
   "metadata": {},
   "outputs": [],
   "source": [
    "#%matplotlib notebook\n",
    "%matplotlib inline \n",
    "\n",
    "%load_ext autoreload\n",
    "%autoreload 2\n",
    "\n",
    "import os, sys\n",
    "import numpy as np\n",
    "\n",
    "import matplotlib.pyplot as plt\n",
    "import pandas as pd\n",
    "\n",
    "\n",
    "sys.path.append(\"../../pycode/\")\n",
    "#from magus_util import read_nvprof_trace, parse_nvprof_trace, getruntime, sort_dict_by_val, genNNFeat, testFeat\n",
    "from magus_util import *\n",
    "from magus_contention import *"
   ]
  },
  {
   "cell_type": "markdown",
   "metadata": {},
   "source": [
    "# load dedicated execution time"
   ]
  },
  {
   "cell_type": "code",
   "execution_count": 2,
   "metadata": {},
   "outputs": [],
   "source": [
    "dedicated_app_dd = np.load(\"../../09_case_study/dedicated_app_runtime.npy\").item()"
   ]
  },
  {
   "cell_type": "code",
   "execution_count": 3,
   "metadata": {},
   "outputs": [
    {
     "data": {
      "text/plain": [
       "2326.0"
      ]
     },
     "execution_count": 3,
     "metadata": {},
     "output_type": "execute_result"
    }
   ],
   "source": [
    "# test \n",
    "dedicated_app_dd['rodinia_b+tree']"
   ]
  },
  {
   "cell_type": "markdown",
   "metadata": {},
   "source": [
    "# load the app2metric "
   ]
  },
  {
   "cell_type": "code",
   "execution_count": 4,
   "metadata": {},
   "outputs": [],
   "source": [
    "app2metric_dd = np.load(\"../../07_sim_devid/similarity/app2metric_dd.npy\").item()"
   ]
  },
  {
   "cell_type": "code",
   "execution_count": 5,
   "metadata": {},
   "outputs": [],
   "source": [
    "# test\n",
    "# app2metric_dd['rodinia_b+tree']\n",
    "# app2metric_dd['rodinia_btree']"
   ]
  },
  {
   "cell_type": "markdown",
   "metadata": {},
   "source": [
    "# similarity distance"
   ]
  },
  {
   "cell_type": "code",
   "execution_count": 6,
   "metadata": {},
   "outputs": [],
   "source": [
    "app2app_sim_dd = np.load('app2app_sim_dd.npy').item()"
   ]
  },
  {
   "cell_type": "code",
   "execution_count": 7,
   "metadata": {},
   "outputs": [],
   "source": [
    "# test\n",
    "# app2app_sim_dd['rodinia_b+tree']\n",
    "# app2app_sim_dd['rodinia_btree']"
   ]
  },
  {
   "cell_type": "markdown",
   "metadata": {},
   "source": [
    "#  features from traces"
   ]
  },
  {
   "cell_type": "code",
   "execution_count": 8,
   "metadata": {},
   "outputs": [],
   "source": [
    "app_iobound_dd = np.load('app_iobound_dd.npy').item()\n",
    "\n",
    "app2newfeat_dd = np.load('app2newfeat_dd.npy').item()"
   ]
  },
  {
   "cell_type": "markdown",
   "metadata": {},
   "source": [
    "# ground truth: speedup for run2"
   ]
  },
  {
   "cell_type": "code",
   "execution_count": 9,
   "metadata": {},
   "outputs": [],
   "source": [
    "#\n",
    "# /magus/09_case_study/testall_greedy/2-groundtruth_cases_from_run2log.ipynb\n",
    "# \n",
    "run2_groundTruth_dd = np.load(\"../../09_case_study/testall_greedy/app_run2_speedup_dd.npy\").item()"
   ]
  },
  {
   "cell_type": "code",
   "execution_count": 10,
   "metadata": {},
   "outputs": [],
   "source": [
    "#run2_groundTruth_dd['rodinia_b+tree']"
   ]
  },
  {
   "cell_type": "markdown",
   "metadata": {},
   "source": [
    "# study all the application"
   ]
  },
  {
   "cell_type": "code",
   "execution_count": 11,
   "metadata": {},
   "outputs": [],
   "source": [
    "def find_large_and_small_jobs(target_app, app2newfeat_dd, appPool):\n",
    "    target_appdur  = app2newfeat_dd[target_app][0]\n",
    "    target_prepare = app2newfeat_dd[target_app][1]\n",
    "    \n",
    "    large_job_list = []\n",
    "    small_job_list = []\n",
    "    total_job_list = []\n",
    "\n",
    "    for myapp in appPool:\n",
    "        total_job_list.append(myapp)\n",
    "        value = app2newfeat_dd[myapp]\n",
    "        my_appdur  = value[0]\n",
    "        my_prepare = value[1]\n",
    "        #print my_appdur, my_prepare\n",
    "        \n",
    "        if my_prepare >= target_appdur and my_appdur > target_appdur * 2.0:\n",
    "            large_job_list.append(myapp)\n",
    "\n",
    "        if my_appdur <= target_prepare and my_appdur * 2.0 < target_appdur:\n",
    "            small_job_list.append(myapp)\n",
    "        \n",
    "    mylist = []\n",
    "    \n",
    "    if large_job_list:  # prefer large job to corun\n",
    "        mylist = large_job_list\n",
    "    else:\n",
    "        if small_job_list:   # if no large job, use the small job list\n",
    "            mylist = small_job_list\n",
    "        else:\n",
    "            mylist = total_job_list  # if there is no large/small job, use the orginial set\n",
    "    \n",
    "    \n",
    "    #print(\"large_job_list = {} \\t small_job_list = {}\".format(len(large_job_list), len(small_job_list)))\n",
    "    \n",
    "    return mylist\n",
    "    "
   ]
  },
  {
   "cell_type": "code",
   "execution_count": 12,
   "metadata": {},
   "outputs": [],
   "source": [
    "def select_opposite_type_app(target_app, job_list, app_iobound_dd):\n",
    "    app1_type = app_iobound_dd[target_app]\n",
    "    opp_type_list = []\n",
    "    for app2 in job_list:\n",
    "        app2_type = app_iobound_dd[app2]\n",
    "        if app1_type <> app2_type:\n",
    "            opp_type_list.append(app2)\n",
    "    return opp_type_list\n",
    "            "
   ]
  },
  {
   "cell_type": "code",
   "execution_count": 13,
   "metadata": {},
   "outputs": [],
   "source": [
    "def find_corun_list(app1, app2newfeat_dd, job_list, DEV_THREAD_MAX):\n",
    "    #[a1_thd_max, _, a1_reg_max, _, a1_sm_max, _, a1_trans_max, _] =app2newfeat_dd[app1][3:]\n",
    "    a1_thd_max = app2newfeat_dd[app1][3]\n",
    "    #print a1_thd_max, a1_reg_max, a1_sm_max, a1_trans_max, \"\\n\"\n",
    "\n",
    "    avail_thd = DEV_THREAD_MAX - a1_thd_max\n",
    "\n",
    "    corun_list = []\n",
    "    if avail_thd > 0:  # for cases, where there are more threads can be launched\n",
    "        for i in job_list:\n",
    "            #[threads_max, _, reg_max, _, sm_max, _, trans_max, _] =app2newfeat_dd[i][3:]\n",
    "            threads_max = app2newfeat_dd[i][3]\n",
    "            \n",
    "            #print threads_max, reg_max, sm_max, trans_max\n",
    "            if threads_max <= avail_thd:\n",
    "                corun_list.append(i)\n",
    "    return corun_list"
   ]
  },
  {
   "cell_type": "code",
   "execution_count": 14,
   "metadata": {},
   "outputs": [],
   "source": [
    "def find_least_sim(app1, app2app_sim_dd, job_list):\n",
    "    app1_sim_dd = app2app_sim_dd[app1]\n",
    "\n",
    "    dist_dd = {}\n",
    "    for app2 in job_list:\n",
    "        dist_dd[app2] = app1_sim_dd[app2]\n",
    "\n",
    "    sorted_dist = sorted(dist_dd.items(), key=operator.itemgetter(1))\n",
    "    #print sorted_dist\n",
    "    #print sorted_dist[-1]\n",
    "\n",
    "    # the least similar one is the last, since sorting in non-decreasing order\n",
    "    return sorted_dist[-1]"
   ]
  },
  {
   "cell_type": "code",
   "execution_count": 15,
   "metadata": {},
   "outputs": [
    {
     "name": "stdout",
     "output_type": "stream",
     "text": [
      "79\n"
     ]
    }
   ],
   "source": [
    "appPool = [key for key, _ in app_iobound_dd.iteritems()]\n",
    "print len(appPool)"
   ]
  },
  {
   "cell_type": "code",
   "execution_count": 26,
   "metadata": {},
   "outputs": [
    {
     "name": "stdout",
     "output_type": "stream",
     "text": [
      "=> run rodinia_b+tree with cudasdk_FDTD3d\n",
      "=> run rodinia_heartwall with lonestar_dmr\n",
      "=> run cudasdk_convolutionFFT2D with rodinia_lavaMD\n",
      "=> run shoc_lev1BFS with cudasdk_radixSortThrust\n",
      "=> run parboil_cutcp with lonestar_sssp\n",
      "=> run rodinia_hybridsort with shoc_lev1md5hash\n",
      "=> run cudasdk_MCEstimatePiInlineQ with cudasdk_batchCUBLAS\n",
      "=> run cudasdk_MCEstimatePiInlineP with shoc_lev1GEMM\n",
      "=> run cudasdk_shflscan with poly_syr2k\n",
      "=> run rodinia_dwt2d with cudasdk_scan\n",
      "=> run cudasdk_vectorAdd with cudasdk_eigenvalues\n",
      "=> run cudasdk_MCEstimatePiP with poly_syrk\n",
      "=> run cudasdk_MCEstimatePiQ with parboil_lbm\n",
      "=> run parboil_bfs with cudasdk_MCSingleAsianOptionP\n",
      "=> run cudasdk_stereoDisparity with lonestar_bh\n",
      "=> run shoc_lev1fft with poly_correlation\n",
      "=> run cudasdk_segmentationTreeThrust with cudasdk_binomialOptions\n",
      "=> run cudasdk_simpleCUBLAS with lonestar_mst\n",
      "=> run parboil_sgemm with cudasdk_simpleCUFFTcallback\n",
      "=> run cudasdk_concurrentKernels with cudasdk_reduction\n",
      "=> run cudasdk_fastWalshTransform with rodinia_gaussian\n",
      "=> run cudasdk_SobolQRNG with poly_3dconv\n",
      "=> run poly_gesummv with cudasdk_c++11Cuda\n",
      "=> run cudasdk_boxFilterNPP with poly_covariance\n",
      "=> run cudasdk_dxtc with poly_2dconv\n",
      "=> run cudasdk_sortingNetworks with rodinia_lud\n",
      "=> run cudasdk_convolutionSeparable with poly_fdtd2d\n",
      "=> run rodinia_pathfinder with cudasdk_matrixMul\n",
      "=> run parboil_mriq with poly_bicg\n",
      "=> run cudasdk_scalarProd with cudasdk_lineOfSight\n",
      "=> run cudasdk_quasirandomGenerator with cudasdk_dwtHaar1D\n",
      "=> run cudasdk_threadFenceReduction with rodinia_needle\n",
      "=> run poly_mvt with shoc_lev1reduction\n",
      "=> run poly_gemm with cudasdk_interval\n",
      "=> run poly_3mm with rodinia_hotspot\n",
      "=> run cudasdk_convolutionTexture with cudasdk_transpose\n",
      "=> run shoc_lev1sort with cudasdk_BlackScholes\n",
      "=> run parboil_stencil with poly_atax\n",
      "=> run cudasdk_dct8x8 with rodinia_backprop\n"
     ]
    }
   ],
   "source": [
    "appPool = [key for key, _ in app_iobound_dd.iteritems()]\n",
    "\n",
    "count = 0\n",
    "DEV_THREAD_MAX = 28 * 2048\n",
    "total_apps = len(appPool)\n",
    "\n",
    "\n",
    "run2_list = []\n",
    "\n",
    "for k in xrange(total_apps):\n",
    "    \n",
    "    if len(appPool) == 1:\n",
    "        run2_list.append([appPool[0],None])\n",
    "        break\n",
    "    \n",
    "    if appPool:\n",
    "        \n",
    "        #print appPool\n",
    "        #print len(appPool)\n",
    "        \n",
    "        # select the 1st app in appPool\n",
    "        app1 = appPool[0]\n",
    "\n",
    "        idx = appPool.index(app1) # update appPool by removing the selected app\n",
    "        del appPool[idx]\n",
    "\n",
    "        #=================================#\n",
    "        # start selection\n",
    "        #=================================#\n",
    "        TARGET = None\n",
    "        CNT = True\n",
    "\n",
    "        #===================================#\n",
    "        # step1 : separate the large and small job list\n",
    "        #===================================#\n",
    "        #print \"Start step1:\"\n",
    "        job_list = find_large_and_small_jobs(app1, app2newfeat_dd, appPool)\n",
    "\n",
    "        KeepGo = True\n",
    "        if len(job_list) == 1:\n",
    "            KeepGo = False\n",
    "            TARGET = job_list[0]\n",
    "            #print(\"step 1 => Found: {}\".format(TARGET))\n",
    "\n",
    "            #\n",
    "            # update appPool by removing the selected app to corun\n",
    "            # \n",
    "            print(\"=> run {} with {}\".format(app1, TARGET))\n",
    "            idx = appPool.index(TARGET)\n",
    "            del appPool[idx]\n",
    "            \n",
    "            run2_list.append([app1,TARGET])\n",
    "\n",
    "        CNT = (CNT and KeepGo)\n",
    "\n",
    "        #===================================#\n",
    "        # step2 : prefer opposite type job to corun\n",
    "        #===================================#\n",
    "\n",
    "        #print job_list\n",
    "        if CNT:\n",
    "            #print \"Start step2\\n\"\n",
    "            opp_type_list = select_opposite_type_app(app1, job_list, app_iobound_dd)\n",
    "\n",
    "\n",
    "            if opp_type_list:\n",
    "                job_list = opp_type_list   # update job_list if there are opposite types\n",
    "\n",
    "            KeepGo = True\n",
    "            if len(job_list) == 1:\n",
    "                KeepGo = False\n",
    "                TARGET = job_list[0]\n",
    "                #print(\"step 2 => Found: {}\".format(TARGET))\n",
    "\n",
    "                #\n",
    "                # update appPool by removing the selected app to corun\n",
    "                # \n",
    "                print(\"=> run {} with {}\".format(app1, TARGET))\n",
    "                idx = appPool.index(TARGET)\n",
    "                del appPool[idx]\n",
    "                run2_list.append([app1,TARGET])\n",
    "\n",
    "\n",
    "            CNT = (CNT and KeepGo)\n",
    "\n",
    "            #===================================#\n",
    "            # step3 : check the thread limitation\n",
    "            #===================================#\n",
    "            if CNT:\n",
    "                #print \"Start step 3\\n\"\n",
    "                corun_list = find_corun_list(app1, app2newfeat_dd, job_list, DEV_THREAD_MAX)\n",
    "                if corun_list:\n",
    "                    job_list = corun_list\n",
    "\n",
    "                KeepGo = True\n",
    "                if len(job_list) == 1:\n",
    "                    KeepGo = False\n",
    "                    TARGET = job_list[0]\n",
    "                    #print(\"step 3 => Found: {}\".format(TARGET))\n",
    "\n",
    "                    #\n",
    "                    # update appPool by removing the selected app to corun\n",
    "                    # \n",
    "                    print(\"=> run {} with {}\".format(app1, TARGET))\n",
    "                    idx = appPool.index(TARGET)\n",
    "                    del appPool[idx]\n",
    "                    \n",
    "                    run2_list.append([app1,TARGET])\n",
    "\n",
    "\n",
    "                CNT = (CNT and KeepGo)\n",
    "\n",
    "\n",
    "        #===================================#\n",
    "        # step4 : similarity analysis\n",
    "        #===================================#\n",
    "        if CNT:\n",
    "            #print \"Start step 4\\n\"\n",
    "            least_sim = find_least_sim(app1, app2app_sim_dd, job_list) # return value is a tuple (appName, distVal)\n",
    "            TARGET = least_sim[0]\n",
    "            #print(\"step 4 => Found: {}\".format(TARGET))\n",
    "\n",
    "            #\n",
    "            # update appPool by removing the selected app to corun\n",
    "            # \n",
    "            print(\"=> run {} with {}\".format(app1, TARGET))\n",
    "            idx = appPool.index(TARGET)\n",
    "            del appPool[idx]\n",
    "            \n",
    "            run2_list.append([app1,TARGET])\n",
    "    \n",
    "    #print appPool\n",
    "    \n",
    "    #=================================#\n",
    "    # end of checking appPool\n",
    "    #=================================#"
   ]
  },
  {
   "cell_type": "code",
   "execution_count": 27,
   "metadata": {},
   "outputs": [
    {
     "data": {
      "text/plain": [
       "[['rodinia_b+tree', 'cudasdk_FDTD3d'],\n",
       " ['rodinia_heartwall', 'lonestar_dmr'],\n",
       " ['cudasdk_convolutionFFT2D', 'rodinia_lavaMD'],\n",
       " ['shoc_lev1BFS', 'cudasdk_radixSortThrust'],\n",
       " ['parboil_cutcp', 'lonestar_sssp'],\n",
       " ['rodinia_hybridsort', 'shoc_lev1md5hash'],\n",
       " ['cudasdk_MCEstimatePiInlineQ', 'cudasdk_batchCUBLAS'],\n",
       " ['cudasdk_MCEstimatePiInlineP', 'shoc_lev1GEMM'],\n",
       " ['cudasdk_shflscan', 'poly_syr2k'],\n",
       " ['rodinia_dwt2d', 'cudasdk_scan'],\n",
       " ['cudasdk_vectorAdd', 'cudasdk_eigenvalues'],\n",
       " ['cudasdk_MCEstimatePiP', 'poly_syrk'],\n",
       " ['cudasdk_MCEstimatePiQ', 'parboil_lbm'],\n",
       " ['parboil_bfs', 'cudasdk_MCSingleAsianOptionP'],\n",
       " ['cudasdk_stereoDisparity', 'lonestar_bh'],\n",
       " ['shoc_lev1fft', 'poly_correlation'],\n",
       " ['cudasdk_segmentationTreeThrust', 'cudasdk_binomialOptions'],\n",
       " ['cudasdk_simpleCUBLAS', 'lonestar_mst'],\n",
       " ['parboil_sgemm', 'cudasdk_simpleCUFFTcallback'],\n",
       " ['cudasdk_concurrentKernels', 'cudasdk_reduction'],\n",
       " ['cudasdk_fastWalshTransform', 'rodinia_gaussian'],\n",
       " ['cudasdk_SobolQRNG', 'poly_3dconv'],\n",
       " ['poly_gesummv', 'cudasdk_c++11Cuda'],\n",
       " ['cudasdk_boxFilterNPP', 'poly_covariance'],\n",
       " ['cudasdk_dxtc', 'poly_2dconv'],\n",
       " ['cudasdk_sortingNetworks', 'rodinia_lud'],\n",
       " ['cudasdk_convolutionSeparable', 'poly_fdtd2d'],\n",
       " ['rodinia_pathfinder', 'cudasdk_matrixMul'],\n",
       " ['parboil_mriq', 'poly_bicg'],\n",
       " ['cudasdk_scalarProd', 'cudasdk_lineOfSight'],\n",
       " ['cudasdk_quasirandomGenerator', 'cudasdk_dwtHaar1D'],\n",
       " ['cudasdk_threadFenceReduction', 'rodinia_needle'],\n",
       " ['poly_mvt', 'shoc_lev1reduction'],\n",
       " ['poly_gemm', 'cudasdk_interval'],\n",
       " ['poly_3mm', 'rodinia_hotspot'],\n",
       " ['cudasdk_convolutionTexture', 'cudasdk_transpose'],\n",
       " ['shoc_lev1sort', 'cudasdk_BlackScholes'],\n",
       " ['parboil_stencil', 'poly_atax'],\n",
       " ['cudasdk_dct8x8', 'rodinia_backprop'],\n",
       " ['cudasdk_mergeSort', None]]"
      ]
     },
     "execution_count": 27,
     "metadata": {},
     "output_type": "execute_result"
    }
   ],
   "source": [
    "run2_list"
   ]
  },
  {
   "cell_type": "markdown",
   "metadata": {},
   "source": [
    "# generate script to run2"
   ]
  },
  {
   "cell_type": "code",
   "execution_count": 41,
   "metadata": {},
   "outputs": [],
   "source": [
    "def pick_app2run(app_list, app2newfeat_dd, app_iobound_dd, app2app_sim_dd):\n",
    "    \n",
    "    appPool = copy.deepcopy(app_list)\n",
    "    \n",
    "    DEV_THREAD_MAX = 28 * 2048\n",
    "    total_apps = len(appPool)\n",
    "\n",
    "    run2_list = []\n",
    "\n",
    "    for k in xrange(total_apps):\n",
    "\n",
    "        if len(appPool) == 1:\n",
    "            run2_list.append([appPool[0],None])\n",
    "            break\n",
    "\n",
    "        if appPool:\n",
    "\n",
    "            #print appPool\n",
    "            #print len(appPool)\n",
    "\n",
    "            # select the 1st app in appPool\n",
    "            app1 = appPool[0]\n",
    "\n",
    "            idx = appPool.index(app1) # update appPool by removing the selected app\n",
    "            del appPool[idx]\n",
    "\n",
    "            #=================================#\n",
    "            # start selection\n",
    "            #=================================#\n",
    "            TARGET = None\n",
    "            CNT = True\n",
    "\n",
    "            #===================================#\n",
    "            # step1 : separate the large and small job list\n",
    "            #===================================#\n",
    "            #print \"Start step1:\"\n",
    "            job_list = find_large_and_small_jobs(app1, app2newfeat_dd, appPool)\n",
    "\n",
    "            KeepGo = True\n",
    "            if len(job_list) == 1:\n",
    "                KeepGo = False\n",
    "                TARGET = job_list[0]\n",
    "                #print(\"step 1 => Found: {}\".format(TARGET))\n",
    "\n",
    "                #\n",
    "                # update appPool by removing the selected app to corun\n",
    "                # \n",
    "                #print(\"=> run {} with {}\".format(app1, TARGET))\n",
    "                \n",
    "                idx = appPool.index(TARGET)\n",
    "                del appPool[idx]\n",
    "\n",
    "                run2_list.append([app1,TARGET])\n",
    "\n",
    "            CNT = (CNT and KeepGo)\n",
    "\n",
    "            #===================================#\n",
    "            # step2 : prefer opposite type job to corun\n",
    "            #===================================#\n",
    "\n",
    "            #print job_list\n",
    "            if CNT:\n",
    "                #print \"Start step2\\n\"\n",
    "                opp_type_list = select_opposite_type_app(app1, job_list, app_iobound_dd)\n",
    "\n",
    "\n",
    "                if opp_type_list:\n",
    "                    job_list = opp_type_list   # update job_list if there are opposite types\n",
    "\n",
    "                KeepGo = True\n",
    "                if len(job_list) == 1:\n",
    "                    KeepGo = False\n",
    "                    TARGET = job_list[0]\n",
    "                    #print(\"step 2 => Found: {}\".format(TARGET))\n",
    "\n",
    "                    #\n",
    "                    # update appPool by removing the selected app to corun\n",
    "                    # \n",
    "                    #print(\"=> run {} with {}\".format(app1, TARGET))\n",
    "                    idx = appPool.index(TARGET)\n",
    "                    del appPool[idx]\n",
    "                    run2_list.append([app1,TARGET])\n",
    "\n",
    "\n",
    "                CNT = (CNT and KeepGo)\n",
    "\n",
    "                #===================================#\n",
    "                # step3 : check the thread limitation\n",
    "                #===================================#\n",
    "                if CNT:\n",
    "                    #print \"Start step 3\\n\"\n",
    "                    corun_list = find_corun_list(app1, app2newfeat_dd, job_list, DEV_THREAD_MAX)\n",
    "                    if corun_list:\n",
    "                        job_list = corun_list\n",
    "\n",
    "                    KeepGo = True\n",
    "                    if len(job_list) == 1:\n",
    "                        KeepGo = False\n",
    "                        TARGET = job_list[0]\n",
    "                        #print(\"step 3 => Found: {}\".format(TARGET))\n",
    "\n",
    "                        #\n",
    "                        # update appPool by removing the selected app to corun\n",
    "                        # \n",
    "                        #print(\"=> run {} with {}\".format(app1, TARGET))\n",
    "                        idx = appPool.index(TARGET)\n",
    "                        del appPool[idx]\n",
    "\n",
    "                        run2_list.append([app1,TARGET])\n",
    "\n",
    "\n",
    "                    CNT = (CNT and KeepGo)\n",
    "\n",
    "\n",
    "            #===================================#\n",
    "            # step4 : similarity analysis\n",
    "            #===================================#\n",
    "            if CNT:\n",
    "                #print \"Start step 4\\n\"\n",
    "                least_sim = find_least_sim(app1, app2app_sim_dd, job_list) # return value is a tuple (appName, distVal)\n",
    "                TARGET = least_sim[0]\n",
    "                #print(\"step 4 => Found: {}\".format(TARGET))\n",
    "\n",
    "                #\n",
    "                # update appPool by removing the selected app to corun\n",
    "                # \n",
    "                #print(\"=> run {} with {}\".format(app1, TARGET))\n",
    "                idx = appPool.index(TARGET)\n",
    "                del appPool[idx]\n",
    "\n",
    "                run2_list.append([app1,TARGET])\n",
    "\n",
    "        #print appPool\n",
    "\n",
    "        #=================================#\n",
    "        # end of checking appPool\n",
    "        #=================================#\n",
    "    return run2_list"
   ]
  },
  {
   "cell_type": "code",
   "execution_count": 59,
   "metadata": {},
   "outputs": [
    {
     "name": "stdout",
     "output_type": "stream",
     "text": [
      "[u'rodinia_lud' u'cudasdk_transpose' u'cudasdk_simpleCUFFTcallback'\n",
      " u'lonestar_dmr' u'cudasdk_BlackScholes' u'cudasdk_dct8x8' u'parboil_lbm'\n",
      " u'cudasdk_convolutionSeparable' u'shoc_lev1md5hash'\n",
      " u'cudasdk_MCSingleAsianOptionP' u'rodinia_pathfinder' u'poly_fdtd2d'\n",
      " u'cudasdk_radixSortThrust' u'cudasdk_segmentationTreeThrust' u'poly_3mm'\n",
      " u'parboil_stencil' u'cudasdk_lineOfSight' u'rodinia_heartwall'\n",
      " u'rodinia_backprop' u'cudasdk_FDTD3d' u'cudasdk_eigenvalues'\n",
      " u'cudasdk_c++11Cuda' u'cudasdk_threadFenceReduction' u'poly_correlation'\n",
      " u'poly_atax' u'cudasdk_SobolQRNG' u'rodinia_hybridsort'\n",
      " u'cudasdk_shflscan' u'parboil_mriq' u'shoc_lev1sort' u'parboil_bfs'\n",
      " u'cudasdk_dxtc' u'shoc_lev1fft' u'cudasdk_scalarProd' u'poly_bicg'\n",
      " u'lonestar_mst' u'poly_covariance' u'cudasdk_convolutionFFT2D'\n",
      " u'poly_syr2k' u'cudasdk_scan' u'parboil_sgemm' u'cudasdk_vectorAdd'\n",
      " u'lonestar_sssp' u'rodinia_dwt2d' u'cudasdk_matrixMul' u'rodinia_hotspot'\n",
      " u'cudasdk_mergeSort' u'rodinia_b+tree' u'cudasdk_MCEstimatePiQ'\n",
      " u'poly_mvt' u'poly_3dconv' u'rodinia_lavaMD' u'poly_gesummv'\n",
      " u'cudasdk_sortingNetworks' u'cudasdk_stereoDisparity' u'poly_2dconv'\n",
      " u'cudasdk_fastWalshTransform' u'shoc_lev1BFS' u'rodinia_needle'\n",
      " u'cudasdk_convolutionTexture' u'cudasdk_reduction' u'poly_gemm'\n",
      " u'cudasdk_batchCUBLAS' u'cudasdk_binomialOptions' u'cudasdk_simpleCUBLAS'\n",
      " u'shoc_lev1GEMM' u'cudasdk_MCEstimatePiInlineQ' u'cudasdk_MCEstimatePiP'\n",
      " u'parboil_cutcp' u'cudasdk_concurrentKernels' u'poly_syrk'\n",
      " u'cudasdk_boxFilterNPP' u'cudasdk_quasirandomGenerator'\n",
      " u'cudasdk_MCEstimatePiInlineP' u'cudasdk_dwtHaar1D' u'cudasdk_interval'\n",
      " u'rodinia_gaussian' u'lonestar_bh']\n"
     ]
    }
   ],
   "source": [
    "app_seq1 = np.load('../app_seq1.npy')\n",
    "print app_seq1\n",
    "\n",
    "appPool = [i for i in app_seq1]\n",
    "\n",
    "run2_list = pick_app2run(appPool, app2newfeat_dd, app_iobound_dd, app2app_sim_dd)\n",
    "\n",
    "run2_mat1 = np.array(run2_list)\n",
    "np.save('run2_mat1.npy', run2_mat1)"
   ]
  },
  {
   "cell_type": "code",
   "execution_count": 58,
   "metadata": {},
   "outputs": [
    {
     "data": {
      "text/plain": [
       "(39, 2)"
      ]
     },
     "execution_count": 58,
     "metadata": {},
     "output_type": "execute_result"
    }
   ],
   "source": [
    "# run2_seq1 = np.load('run2_mat1.npy')\n",
    "# run2_seq1.shape"
   ]
  },
  {
   "cell_type": "code",
   "execution_count": 60,
   "metadata": {},
   "outputs": [
    {
     "name": "stdout",
     "output_type": "stream",
     "text": [
      "[u'rodinia_lud' u'cudasdk_lineOfSight' u'cudasdk_c++11Cuda'\n",
      " u'cudasdk_dct8x8' u'cudasdk_reduction' u'parboil_mriq'\n",
      " u'cudasdk_simpleCUBLAS' u'cudasdk_mergeSort'\n",
      " u'cudasdk_convolutionSeparable' u'rodinia_backprop'\n",
      " u'cudasdk_MCSingleAsianOptionP' u'poly_gemm' u'cudasdk_scan'\n",
      " u'cudasdk_dwtHaar1D' u'cudasdk_concurrentKernels' u'shoc_lev1fft'\n",
      " u'cudasdk_fastWalshTransform' u'rodinia_lavaMD' u'rodinia_hotspot'\n",
      " u'poly_bicg' u'cudasdk_sortingNetworks' u'parboil_sgemm'\n",
      " u'cudasdk_matrixMul' u'cudasdk_interval' u'cudasdk_transpose'\n",
      " u'poly_gesummv' u'cudasdk_convolutionFFT2D'\n",
      " u'cudasdk_quasirandomGenerator' u'shoc_lev1sort' u'cudasdk_batchCUBLAS'\n",
      " u'cudasdk_convolutionTexture' u'shoc_lev1GEMM' u'rodinia_heartwall'\n",
      " u'cudasdk_shflscan' u'poly_3dconv' u'cudasdk_segmentationTreeThrust'\n",
      " u'poly_mvt' u'shoc_lev1md5hash' u'cudasdk_BlackScholes' u'cudasdk_dxtc'\n",
      " u'cudasdk_boxFilterNPP' u'poly_fdtd2d' u'cudasdk_scalarProd'\n",
      " u'rodinia_gaussian' u'poly_syrk' u'cudasdk_stereoDisparity' u'poly_2dconv'\n",
      " u'poly_correlation' u'cudasdk_MCEstimatePiQ' u'rodinia_b+tree'\n",
      " u'cudasdk_FDTD3d' u'poly_3mm' u'lonestar_mst'\n",
      " u'cudasdk_simpleCUFFTcallback' u'lonestar_bh' u'cudasdk_SobolQRNG'\n",
      " u'lonestar_sssp' u'rodinia_pathfinder' u'parboil_cutcp'\n",
      " u'cudasdk_MCEstimatePiP' u'cudasdk_vectorAdd' u'parboil_bfs'\n",
      " u'rodinia_dwt2d' u'parboil_stencil' u'parboil_lbm' u'poly_syr2k'\n",
      " u'cudasdk_eigenvalues' u'cudasdk_threadFenceReduction' u'poly_covariance'\n",
      " u'lonestar_dmr' u'cudasdk_MCEstimatePiInlineP' u'rodinia_hybridsort'\n",
      " u'shoc_lev1BFS' u'rodinia_needle' u'cudasdk_MCEstimatePiInlineQ'\n",
      " u'poly_atax' u'cudasdk_binomialOptions' u'cudasdk_radixSortThrust']\n"
     ]
    }
   ],
   "source": [
    "app_seq = np.load('../app_seq2.npy')\n",
    "print app_seq\n",
    "\n",
    "appPool = [i for i in app_seq]\n",
    "\n",
    "run2_list = pick_app2run(appPool, app2newfeat_dd, app_iobound_dd, app2app_sim_dd)\n",
    "\n",
    "run2_mat = np.array(run2_list)\n",
    "np.save('run2_mat2.npy', run2_mat)"
   ]
  },
  {
   "cell_type": "code",
   "execution_count": 61,
   "metadata": {},
   "outputs": [],
   "source": [
    "app_seq = np.load('../app_seq3.npy')\n",
    "#print app_seq\n",
    "\n",
    "appPool = [i for i in app_seq]\n",
    "\n",
    "run2_list = pick_app2run(appPool, app2newfeat_dd, app_iobound_dd, app2app_sim_dd)\n",
    "\n",
    "run2_mat = np.array(run2_list)\n",
    "np.save('run2_mat3.npy', run2_mat)"
   ]
  }
 ],
 "metadata": {
  "kernelspec": {
   "display_name": "Python 2",
   "language": "python",
   "name": "python2"
  },
  "language_info": {
   "codemirror_mode": {
    "name": "ipython",
    "version": 2
   },
   "file_extension": ".py",
   "mimetype": "text/x-python",
   "name": "python",
   "nbconvert_exporter": "python",
   "pygments_lexer": "ipython2",
   "version": "2.7.14"
  }
 },
 "nbformat": 4,
 "nbformat_minor": 2
}

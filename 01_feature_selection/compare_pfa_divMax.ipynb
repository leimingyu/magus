{
 "cells": [
  {
   "cell_type": "markdown",
   "metadata": {},
   "source": [
    "### 50 features"
   ]
  },
  {
   "cell_type": "code",
   "execution_count": 1,
   "metadata": {
    "collapsed": true
   },
   "outputs": [],
   "source": [
    "divMax = [\n",
    "'l2_tex_write_throughput',\n",
    "'gld_transactions_per_request',\n",
    "'issue_slots',\n",
    "'eligible_warps_per_cycle',\n",
    "'shared_store_throughput',\n",
    "'stall_texture',\n",
    "'shared_store_transactions_per_request',\n",
    "'achieved_occupancy',\n",
    "'ecc_transactions',\n",
    "'dram_write_throughput',\n",
    "'inst_fp_32',\n",
    "'inst_bit_convert',\n",
    "'tex_utilization',\n",
    "'sysmem_write_transactions',\n",
    "'dram_read_transactions',\n",
    "'stall_memory_dependency',\n",
    "'gld_transactions',\n",
    "'sysmem_read_throughput',\n",
    "'ldst_issued',\n",
    "'l2_write_transactions',\n",
    "'flop_count_sp_special',\n",
    "'local_memory_overhead',\n",
    "'local_store_throughput',\n",
    "'gst_transactions',\n",
    "'stall_exec_dependency',\n",
    "'flop_count_sp_mul',\n",
    "'gld_efficiency',\n",
    "'l2_tex_read_throughput',\n",
    "'shared_load_transactions',\n",
    "'gst_requested_throughput',\n",
    "'flop_count_dp',\n",
    "'flop_dp_efficiency',\n",
    "'ipc',\n",
    "'warp_execution_efficiency',\n",
    "'gld_throughput',\n",
    "'local_store_transactions_per_request',\n",
    "'inst_integer',\n",
    "'inst_inter_thread_communication',\n",
    "'flop_count_sp_fma',\n",
    "'stall_memory_throttle',\n",
    "'stall_inst_fetch',\n",
    "'flop_count_dp_mul',\n",
    "'issue_slot_utilization',\n",
    "'l2_read_transactions',\n",
    "'inst_replay_overhead',\n",
    "'flop_sp_efficiency',\n",
    "'l2_write_throughput',\n",
    "'stall_pipe_busy',\n",
    "'stall_constant_memory_dependency',\n",
    "'flop_count_dp_add'\n",
    "]"
   ]
  },
  {
   "cell_type": "code",
   "execution_count": 2,
   "metadata": {
    "collapsed": true
   },
   "outputs": [],
   "source": [
    "featScale = [\n",
    "'ipc',\n",
    "'l2_write_transactions',\n",
    "'sysmem_utilization',\n",
    "'issued_ipc',\n",
    "'flop_count_sp_special',\n",
    "'l2_tex_read_transactions',\n",
    "'warp_execution_efficiency',\n",
    "'sysmem_write_transactions',\n",
    "'dram_read_transactions',\n",
    "'cf_issued',\n",
    "'ldst_issued',\n",
    "'local_load_throughput',\n",
    "'l2_read_throughput',\n",
    "'local_store_throughput',\n",
    "'dram_write_throughput',\n",
    "'inst_per_warp',\n",
    "'dram_read_throughput',\n",
    "'tex_cache_throughput',\n",
    "'gst_throughput',\n",
    "'sysmem_read_transactions',\n",
    "'issue_slot_utilization',\n",
    "'ldst_fu_utilization',\n",
    "'l2_tex_write_throughput',\n",
    "'gst_requested_throughput',\n",
    "'inst_bit_convert',\n",
    "'flop_count_dp_add',\n",
    "'tex_cache_hit_rate',\n",
    "'flop_count_dp',\n",
    "'shared_utilization',\n",
    "'gld_efficiency',\n",
    "'inst_replay_overhead',\n",
    "'cf_fu_utilization',\n",
    "'tex_cache_transactions',\n",
    "'gst_transactions',\n",
    "'flop_dp_efficiency',\n",
    "'gst_transactions_per_request',\n",
    "'shared_store_transactions',\n",
    "'inst_fp_32',\n",
    "'atomic_transactions_per_request',\n",
    "'l2_tex_write_hit_rate',\n",
    "'l2_tex_read_throughput',\n",
    "'flop_count_sp_mul',\n",
    "'gld_transactions',\n",
    "'issue_slots',\n",
    "'stall_exec_dependency',\n",
    "'flop_count_sp_fma',\n",
    "'stall_sync',\n",
    "'branch_efficiency',\n",
    "'inst_integer',\n",
    "'achieved_occupancy']"
   ]
  },
  {
   "cell_type": "code",
   "execution_count": 3,
   "metadata": {
    "collapsed": false
   },
   "outputs": [
    {
     "name": "stdout",
     "output_type": "stream",
     "text": [
      "50\n",
      "50\n"
     ]
    }
   ],
   "source": [
    "print len(divMax)\n",
    "print len(featScale)"
   ]
  },
  {
   "cell_type": "code",
   "execution_count": 6,
   "metadata": {
    "collapsed": true
   },
   "outputs": [],
   "source": [
    "\n",
    "shared_metric_list = []\n",
    "divMax_unique_metric_list = []\n",
    "featScale_unique_metric_list = []\n",
    "\n",
    "for metric in divMax:\n",
    "    if metric in featScale:\n",
    "        shared_metric_list.append(metric)\n",
    "    else:\n",
    "        divMax_unique_metric_list.append(metric)\n",
    "        \n",
    "\n",
    "for metric in featScale:\n",
    "    if metric not in shared_metric_list:\n",
    "        featScale_unique_metric_list.append(metric)"
   ]
  },
  {
   "cell_type": "code",
   "execution_count": 7,
   "metadata": {
    "collapsed": false
   },
   "outputs": [
    {
     "name": "stdout",
     "output_type": "stream",
     "text": [
      "28\n",
      "22\n",
      "22\n"
     ]
    }
   ],
   "source": [
    "print len(shared_metric_list)\n",
    "print len(divMax_unique_metric_list)\n",
    "print len(featScale_unique_metric_list)"
   ]
  },
  {
   "cell_type": "code",
   "execution_count": 8,
   "metadata": {
    "collapsed": false
   },
   "outputs": [
    {
     "data": {
      "text/plain": [
       "['l2_tex_write_throughput',\n",
       " 'issue_slots',\n",
       " 'achieved_occupancy',\n",
       " 'dram_write_throughput',\n",
       " 'inst_fp_32',\n",
       " 'inst_bit_convert',\n",
       " 'sysmem_write_transactions',\n",
       " 'dram_read_transactions',\n",
       " 'gld_transactions',\n",
       " 'ldst_issued',\n",
       " 'l2_write_transactions',\n",
       " 'flop_count_sp_special',\n",
       " 'local_store_throughput',\n",
       " 'gst_transactions',\n",
       " 'stall_exec_dependency',\n",
       " 'flop_count_sp_mul',\n",
       " 'gld_efficiency',\n",
       " 'l2_tex_read_throughput',\n",
       " 'gst_requested_throughput',\n",
       " 'flop_count_dp',\n",
       " 'flop_dp_efficiency',\n",
       " 'ipc',\n",
       " 'warp_execution_efficiency',\n",
       " 'inst_integer',\n",
       " 'flop_count_sp_fma',\n",
       " 'issue_slot_utilization',\n",
       " 'inst_replay_overhead',\n",
       " 'flop_count_dp_add']"
      ]
     },
     "execution_count": 8,
     "metadata": {},
     "output_type": "execute_result"
    }
   ],
   "source": [
    "shared_metric_list"
   ]
  },
  {
   "cell_type": "code",
   "execution_count": 9,
   "metadata": {
    "collapsed": false
   },
   "outputs": [
    {
     "data": {
      "text/plain": [
       "['gld_transactions_per_request',\n",
       " 'eligible_warps_per_cycle',\n",
       " 'shared_store_throughput',\n",
       " 'stall_texture',\n",
       " 'shared_store_transactions_per_request',\n",
       " 'ecc_transactions',\n",
       " 'tex_utilization',\n",
       " 'stall_memory_dependency',\n",
       " 'sysmem_read_throughput',\n",
       " 'local_memory_overhead',\n",
       " 'shared_load_transactions',\n",
       " 'gld_throughput',\n",
       " 'local_store_transactions_per_request',\n",
       " 'inst_inter_thread_communication',\n",
       " 'stall_memory_throttle',\n",
       " 'stall_inst_fetch',\n",
       " 'flop_count_dp_mul',\n",
       " 'l2_read_transactions',\n",
       " 'flop_sp_efficiency',\n",
       " 'l2_write_throughput',\n",
       " 'stall_pipe_busy',\n",
       " 'stall_constant_memory_dependency']"
      ]
     },
     "execution_count": 9,
     "metadata": {},
     "output_type": "execute_result"
    }
   ],
   "source": [
    "divMax_unique_metric_list"
   ]
  },
  {
   "cell_type": "code",
   "execution_count": 10,
   "metadata": {
    "collapsed": false
   },
   "outputs": [
    {
     "data": {
      "text/plain": [
       "['sysmem_utilization',\n",
       " 'issued_ipc',\n",
       " 'l2_tex_read_transactions',\n",
       " 'cf_issued',\n",
       " 'local_load_throughput',\n",
       " 'l2_read_throughput',\n",
       " 'inst_per_warp',\n",
       " 'dram_read_throughput',\n",
       " 'tex_cache_throughput',\n",
       " 'gst_throughput',\n",
       " 'sysmem_read_transactions',\n",
       " 'ldst_fu_utilization',\n",
       " 'tex_cache_hit_rate',\n",
       " 'shared_utilization',\n",
       " 'cf_fu_utilization',\n",
       " 'tex_cache_transactions',\n",
       " 'gst_transactions_per_request',\n",
       " 'shared_store_transactions',\n",
       " 'atomic_transactions_per_request',\n",
       " 'l2_tex_write_hit_rate',\n",
       " 'stall_sync',\n",
       " 'branch_efficiency']"
      ]
     },
     "execution_count": 10,
     "metadata": {},
     "output_type": "execute_result"
    }
   ],
   "source": [
    "featScale_unique_metric_list"
   ]
  },
  {
   "cell_type": "markdown",
   "metadata": {},
   "source": [
    "### 20 features"
   ]
  },
  {
   "cell_type": "code",
   "execution_count": 11,
   "metadata": {
    "collapsed": true
   },
   "outputs": [],
   "source": [
    "divmax_metrics = [\n",
    "    'shared_load_throughput',\n",
    "'eligible_warps_per_cycle',\n",
    "'l2_atomic_transactions',\n",
    "'dram_write_throughput',\n",
    "'shared_efficiency',\n",
    "'sysmem_read_transactions',\n",
    "'tex_utilization',\n",
    "'flop_count_dp_fma',\n",
    "'stall_not_selected',\n",
    "'local_store_transactions',\n",
    "'sysmem_read_throughput',\n",
    "'flop_count_sp_mul',\n",
    "'gst_requested_throughput',\n",
    "'l2_tex_write_transactions',\n",
    "'gld_requested_throughput',\n",
    "'shared_load_transactions',\n",
    "'flop_count_sp_special',\n",
    "'stall_memory_throttle',\n",
    "'inst_issued',\n",
    "'gld_transactions_per_request'    \n",
    "]\n",
    "\n",
    "\n",
    "featScale_metrics = [\n",
    "'global_hit_rate',\n",
    "'sysmem_read_throughput',\n",
    "'shared_load_transactions',\n",
    "'warp_nonpred_execution_efficiency',\n",
    "'gld_transactions_per_request',\n",
    "'issued_ipc',\n",
    "'gst_transactions',\n",
    "'inst_replay_overhead',\n",
    "'l2_tex_read_transactions',\n",
    "'gst_requested_throughput',\n",
    "'local_store_transactions',\n",
    "'tex_cache_hit_rate',\n",
    "'ldst_issued',\n",
    "'eligible_warps_per_cycle',\n",
    "'sysmem_write_utilization',\n",
    "'achieved_occupancy',\n",
    "'dram_read_transactions',\n",
    "'dram_write_transactions',\n",
    "'warp_execution_efficiency',\n",
    "'tex_fu_utilization'\n",
    "]"
   ]
  },
  {
   "cell_type": "code",
   "execution_count": 12,
   "metadata": {
    "collapsed": false
   },
   "outputs": [
    {
     "name": "stdout",
     "output_type": "stream",
     "text": [
      "20\n",
      "20\n"
     ]
    }
   ],
   "source": [
    "print len(divmax_metrics)\n",
    "print len(featScale_metrics)"
   ]
  },
  {
   "cell_type": "code",
   "execution_count": 13,
   "metadata": {
    "collapsed": true
   },
   "outputs": [],
   "source": [
    "shared_metric_list = []\n",
    "divMax_unique_metric_list = []\n",
    "featScale_unique_metric_list = []\n",
    "\n",
    "for metric in divmax_metrics:\n",
    "    if metric in featScale_metrics:\n",
    "        shared_metric_list.append(metric)\n",
    "    else:\n",
    "        divMax_unique_metric_list.append(metric)\n",
    "        \n",
    "\n",
    "for metric in featScale_metrics:\n",
    "    if metric not in shared_metric_list:\n",
    "        featScale_unique_metric_list.append(metric)"
   ]
  },
  {
   "cell_type": "code",
   "execution_count": 14,
   "metadata": {
    "collapsed": false
   },
   "outputs": [
    {
     "name": "stdout",
     "output_type": "stream",
     "text": [
      "6\n",
      "14\n",
      "14\n"
     ]
    }
   ],
   "source": [
    "print len(shared_metric_list)\n",
    "print len(divMax_unique_metric_list)\n",
    "print len(featScale_unique_metric_list)"
   ]
  },
  {
   "cell_type": "code",
   "execution_count": 15,
   "metadata": {
    "collapsed": false
   },
   "outputs": [
    {
     "data": {
      "text/plain": [
       "['eligible_warps_per_cycle',\n",
       " 'local_store_transactions',\n",
       " 'sysmem_read_throughput',\n",
       " 'gst_requested_throughput',\n",
       " 'shared_load_transactions',\n",
       " 'gld_transactions_per_request']"
      ]
     },
     "execution_count": 15,
     "metadata": {},
     "output_type": "execute_result"
    }
   ],
   "source": [
    "shared_metric_list"
   ]
  },
  {
   "cell_type": "code",
   "execution_count": 16,
   "metadata": {
    "collapsed": false
   },
   "outputs": [
    {
     "data": {
      "text/plain": [
       "['shared_load_throughput',\n",
       " 'l2_atomic_transactions',\n",
       " 'dram_write_throughput',\n",
       " 'shared_efficiency',\n",
       " 'sysmem_read_transactions',\n",
       " 'tex_utilization',\n",
       " 'flop_count_dp_fma',\n",
       " 'stall_not_selected',\n",
       " 'flop_count_sp_mul',\n",
       " 'l2_tex_write_transactions',\n",
       " 'gld_requested_throughput',\n",
       " 'flop_count_sp_special',\n",
       " 'stall_memory_throttle',\n",
       " 'inst_issued']"
      ]
     },
     "execution_count": 16,
     "metadata": {},
     "output_type": "execute_result"
    }
   ],
   "source": [
    "divMax_unique_metric_list"
   ]
  },
  {
   "cell_type": "code",
   "execution_count": 17,
   "metadata": {
    "collapsed": false
   },
   "outputs": [
    {
     "data": {
      "text/plain": [
       "['global_hit_rate',\n",
       " 'warp_nonpred_execution_efficiency',\n",
       " 'issued_ipc',\n",
       " 'gst_transactions',\n",
       " 'inst_replay_overhead',\n",
       " 'l2_tex_read_transactions',\n",
       " 'tex_cache_hit_rate',\n",
       " 'ldst_issued',\n",
       " 'sysmem_write_utilization',\n",
       " 'achieved_occupancy',\n",
       " 'dram_read_transactions',\n",
       " 'dram_write_transactions',\n",
       " 'warp_execution_efficiency',\n",
       " 'tex_fu_utilization']"
      ]
     },
     "execution_count": 17,
     "metadata": {},
     "output_type": "execute_result"
    }
   ],
   "source": [
    "featScale_unique_metric_list"
   ]
  }
 ],
 "metadata": {
  "kernelspec": {
   "display_name": "Python [conda root]",
   "language": "python",
   "name": "conda-root-py"
  },
  "language_info": {
   "codemirror_mode": {
    "name": "ipython",
    "version": 2
   },
   "file_extension": ".py",
   "mimetype": "text/x-python",
   "name": "python",
   "nbconvert_exporter": "python",
   "pygments_lexer": "ipython2",
   "version": "2.7.13"
  }
 },
 "nbformat": 4,
 "nbformat_minor": 2
}

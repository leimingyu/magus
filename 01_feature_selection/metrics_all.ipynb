{
 "cells": [
  {
   "cell_type": "markdown",
   "metadata": {
    "collapsed": true,
    "deletable": true,
    "editable": true
   },
   "source": [
    "### read metrics"
   ]
  },
  {
   "cell_type": "code",
   "execution_count": 28,
   "metadata": {
    "collapsed": false,
    "deletable": true,
    "editable": true
   },
   "outputs": [],
   "source": [
    "inputFolder = 'metrics_sdk80'\n",
    "\n",
    "import os\n",
    "import sys # error msg, add the modules\n",
    "sys.path.append('../pycode')\n",
    "\n",
    "import json\n",
    "import codecs\n",
    "\n",
    "from magus import read_trace\n",
    "\n",
    "\n",
    "appTrace = os.listdir(inputFolder)\n",
    "# print appTrace\n",
    "\n",
    "\n",
    "#\n",
    "# read each file\n",
    "#\n",
    "for currentFile in appTrace:\n",
    "    file_csv = inputFolder + '/' + currentFile \n",
    "\n",
    "    df_app = read_trace(file_csv)\n",
    "    #print df_app\n",
    "    \n",
    "    kernelList = df_app['Kernel'].unique()\n",
    "#     print kernelList\n",
    "    \n",
    "    metricsAll = {}\n",
    "    \n",
    "    gpuArch = 'maxwell'\n",
    "    metricsAll[gpuArch] = list(df_app['Metric Name'].unique())\n",
    "    #print type(metricsAll[gpuArch])\n",
    "    \n",
    "    \n",
    "#     with open(gpuArch +'_metrics.json', 'w') as outfile:  \n",
    "#         json.dump(metricsAll, outfile, ensure_ascii=False)\n",
    "    \n",
    "    \n",
    "    with codecs.open(gpuArch +'_metrics.json', 'w', encoding='utf-8') as outfile:\n",
    "        json.dump(metricsAll, outfile, ensure_ascii=False)\n",
    "    \n",
    "    \n",
    "    \n",
    "    break\n",
    "    \n",
    "    \n",
    "    "
   ]
  }
 ],
 "metadata": {
  "kernelspec": {
   "display_name": "Python [conda root]",
   "language": "python",
   "name": "conda-root-py"
  },
  "language_info": {
   "codemirror_mode": {
    "name": "ipython",
    "version": 2
   },
   "file_extension": ".py",
   "mimetype": "text/x-python",
   "name": "python",
   "nbconvert_exporter": "python",
   "pygments_lexer": "ipython2",
   "version": "2.7.13"
  }
 },
 "nbformat": 4,
 "nbformat_minor": 2
}

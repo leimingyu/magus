{
 "cells": [
  {
   "cell_type": "code",
   "execution_count": 2,
   "metadata": {
    "collapsed": true,
    "deletable": true,
    "editable": true
   },
   "outputs": [],
   "source": [
    "class AppInfo:\n",
    "    def __init__(self, name, directory, command):\n",
    "        self.name = name\n",
    "        self.directory = directory\n",
    "        self.command = command\n",
    "\n",
    "# cudasdk\n",
    "app_list = []\n",
    "\n",
    "app_list.append(['matrixMul',  'apps/cudasdk80/0_Simple/matrixMul', './matrixMul'])\n",
    "app_list.append(['vectorAdd',  'apps/cudasdk80/0_Simple/vectorAdd', './vectorAdd'])"
   ]
  },
  {
   "cell_type": "code",
   "execution_count": 3,
   "metadata": {
    "collapsed": false,
    "deletable": true,
    "editable": true
   },
   "outputs": [
    {
     "name": "stdout",
     "output_type": "stream",
     "text": [
      "['matrixMul', 'apps/cudasdk80/0_Simple/matrixMul', './matrixMul']\n",
      "['vectorAdd', 'apps/cudasdk80/0_Simple/vectorAdd', './vectorAdd']\n"
     ]
    }
   ],
   "source": [
    "for item in app_list:\n",
    "    print item"
   ]
  },
  {
   "cell_type": "markdown",
   "metadata": {
    "deletable": true,
    "editable": true
   },
   "source": [
    "### run in shell script"
   ]
  },
  {
   "cell_type": "code",
   "execution_count": 6,
   "metadata": {
    "collapsed": true,
    "deletable": true,
    "editable": true
   },
   "outputs": [],
   "source": [
    "import multiprocessing\n",
    "import subprocess\n",
    "import time\n",
    "import os\n",
    "from subprocess import check_call, STDOUT"
   ]
  },
  {
   "cell_type": "code",
   "execution_count": 53,
   "metadata": {
    "collapsed": false
   },
   "outputs": [],
   "source": [
    "class cd:\n",
    "    \"\"\"Context manager for changing the current working directory\"\"\"\n",
    "    def __init__(self, newPath):\n",
    "        self.newPath = os.path.expanduser(newPath)\n",
    "\n",
    "    def __enter__(self):\n",
    "        self.savedPath = os.getcwd()\n",
    "        os.chdir(self.newPath)\n",
    "\n",
    "    def __exit__(self, etype, value, traceback):\n",
    "        os.chdir(self.savedPath)\n",
    "        \n",
    "        \n",
    "\n",
    "def run_remote_mp(DEVNULL, app_dir, app_cmd, *args):\n",
    "    start = time.time()\n",
    "    \n",
    "    with cd(app_dir):\n",
    "        print os.getcwd()\n",
    "        \n",
    "        if len(args) == 0:\n",
    "            check_call([app_cmd], stdout=DEVNULL, stderr=STDOUT)\n",
    "        else:\n",
    "            app_cmd_list = [app_cmd]\n",
    "            for arg in args:\n",
    "                app_cmd_list.append(arg)\n",
    "            #print app_cmd_list\n",
    "            check_call(app_cmd_list, stdout=DEVNULL, stderr=STDOUT)\n",
    "                \n",
    "            \n",
    "        \n",
    "    end = time.time()\n",
    "    print(\"{} to {} = {:.3f} seconds\".format(start, end, end - start))"
   ]
  },
  {
   "cell_type": "code",
   "execution_count": 54,
   "metadata": {
    "collapsed": false
   },
   "outputs": [
    {
     "name": "stdout",
     "output_type": "stream",
     "text": [
      "/home/leiming/git/magus/apps/cudasdk80/0_Simple/vectorAdd\n",
      "/home/leiming/git/magus/apps/cudasdk80/0_Simple/matrixMul\n",
      "/home/leiming/git/magus/apps/lonestargpu-2.0/apps/bh\n",
      "['./bh', '30000', '50', '0']\n",
      "1507257403.04 to 1507257404.64 = 1.602 seconds\n",
      "1507257403.04 to 1507257405.24 = 2.202 seconds\n",
      "1507257403.05 to 1507257411.47 = 8.425 seconds\n"
     ]
    }
   ],
   "source": [
    "std_out = open(os.devnull, 'wb', 0)\n",
    "\n",
    "p = multiprocessing.Process(target=run_remote_mp, \n",
    "                            args=(std_out,\n",
    "                                  '../apps/cudasdk80/0_Simple/matrixMul/',\n",
    "                                  './matrixMul'))\n",
    "p.start()\n",
    "# p.join()\n",
    "\n",
    "\n",
    "\n",
    "p = multiprocessing.Process(target=run_remote_mp, \n",
    "                            args=(std_out,\n",
    "                                  '../apps/cudasdk80/0_Simple/vectorAdd',\n",
    "                                  './vectorAdd'))\n",
    "p.start()\n",
    "# p.join()\n",
    "\n",
    "\n",
    "p1 = multiprocessing.Process(target=run_remote_mp, \n",
    "                            args=(std_out,\n",
    "                                  '../apps/lonestargpu-2.0/apps/bh/',\n",
    "                                  './bh',\n",
    "                                  '30000', '50', '0'))\n",
    "p1.start()"
   ]
  }
 ],
 "metadata": {
  "kernelspec": {
   "display_name": "Python [conda root]",
   "language": "python",
   "name": "conda-root-py"
  },
  "language_info": {
   "codemirror_mode": {
    "name": "ipython",
    "version": 2
   },
   "file_extension": ".py",
   "mimetype": "text/x-python",
   "name": "python",
   "nbconvert_exporter": "python",
   "pygments_lexer": "ipython2",
   "version": "2.7.13"
  }
 },
 "nbformat": 4,
 "nbformat_minor": 2
}

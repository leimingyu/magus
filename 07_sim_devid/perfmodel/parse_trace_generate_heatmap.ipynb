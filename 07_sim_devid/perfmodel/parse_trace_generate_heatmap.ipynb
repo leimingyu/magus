{
 "cells": [
  {
   "cell_type": "code",
   "execution_count": 1,
   "metadata": {},
   "outputs": [],
   "source": [
    "# needed on mac\n",
    "%matplotlib inline\n",
    "\n",
    "import pandas as pd\n",
    "import numpy as np\n",
    "import seaborn as sns\n"
   ]
  },
  {
   "cell_type": "code",
   "execution_count": 2,
   "metadata": {},
   "outputs": [],
   "source": [
    "METRICS_COLS = ['timestamp', 'utilization.gpu [%]']"
   ]
  },
  {
   "cell_type": "code",
   "execution_count": 3,
   "metadata": {},
   "outputs": [],
   "source": [
    "def convert_to_sec(hour_min_sec):\n",
    "    result_format = hour_min_sec\n",
    "    [hours, minutes, seconds] = hour_min_sec.split(\":\")\n",
    "    #print hours, minutes, seconds\n",
    "    result_format = float(hours) * 3600. + float(minutes) * 60. + float(seconds)\n",
    "    #print result_format\n",
    "    return result_format"
   ]
  },
  {
   "cell_type": "markdown",
   "metadata": {},
   "source": [
    "### read 0.5 second trace"
   ]
  },
  {
   "cell_type": "code",
   "execution_count": 4,
   "metadata": {},
   "outputs": [
    {
     "data": {
      "text/html": [
       "<div>\n",
       "<style>\n",
       "    .dataframe thead tr:only-child th {\n",
       "        text-align: right;\n",
       "    }\n",
       "\n",
       "    .dataframe thead th {\n",
       "        text-align: left;\n",
       "    }\n",
       "\n",
       "    .dataframe tbody tr th {\n",
       "        vertical-align: top;\n",
       "    }\n",
       "</style>\n",
       "<table border=\"1\" class=\"dataframe\">\n",
       "  <thead>\n",
       "    <tr style=\"text-align: right;\">\n",
       "      <th></th>\n",
       "      <th>timestamp</th>\n",
       "      <th>utilization.gpu [%]</th>\n",
       "    </tr>\n",
       "  </thead>\n",
       "  <tbody>\n",
       "    <tr>\n",
       "      <th>0</th>\n",
       "      <td>2018/03/17 19:02:29.274</td>\n",
       "      <td>0 %</td>\n",
       "    </tr>\n",
       "    <tr>\n",
       "      <th>1</th>\n",
       "      <td>2018/03/17 19:02:29.276</td>\n",
       "      <td>0 %</td>\n",
       "    </tr>\n",
       "    <tr>\n",
       "      <th>2</th>\n",
       "      <td>2018/03/17 19:02:29.279</td>\n",
       "      <td>0 %</td>\n",
       "    </tr>\n",
       "    <tr>\n",
       "      <th>3</th>\n",
       "      <td>2018/03/17 19:02:29.281</td>\n",
       "      <td>0 %</td>\n",
       "    </tr>\n",
       "    <tr>\n",
       "      <th>4</th>\n",
       "      <td>2018/03/17 19:02:29.283</td>\n",
       "      <td>0 %</td>\n",
       "    </tr>\n",
       "    <tr>\n",
       "      <th>5</th>\n",
       "      <td>2018/03/17 19:02:29.289</td>\n",
       "      <td>0 %</td>\n",
       "    </tr>\n",
       "    <tr>\n",
       "      <th>6</th>\n",
       "      <td>2018/03/17 19:02:29.291</td>\n",
       "      <td>0 %</td>\n",
       "    </tr>\n",
       "    <tr>\n",
       "      <th>7</th>\n",
       "      <td>2018/03/17 19:02:29.293</td>\n",
       "      <td>0 %</td>\n",
       "    </tr>\n",
       "    <tr>\n",
       "      <th>8</th>\n",
       "      <td>2018/03/17 19:02:29.295</td>\n",
       "      <td>0 %</td>\n",
       "    </tr>\n",
       "    <tr>\n",
       "      <th>9</th>\n",
       "      <td>2018/03/17 19:02:29.299</td>\n",
       "      <td>0 %</td>\n",
       "    </tr>\n",
       "    <tr>\n",
       "      <th>10</th>\n",
       "      <td>2018/03/17 19:02:29.301</td>\n",
       "      <td>0 %</td>\n",
       "    </tr>\n",
       "    <tr>\n",
       "      <th>11</th>\n",
       "      <td>2018/03/17 19:02:29.303</td>\n",
       "      <td>0 %</td>\n",
       "    </tr>\n",
       "    <tr>\n",
       "      <th>12</th>\n",
       "      <td>2018/03/17 19:02:29.808</td>\n",
       "      <td>0 %</td>\n",
       "    </tr>\n",
       "    <tr>\n",
       "      <th>13</th>\n",
       "      <td>2018/03/17 19:02:29.810</td>\n",
       "      <td>0 %</td>\n",
       "    </tr>\n",
       "    <tr>\n",
       "      <th>14</th>\n",
       "      <td>2018/03/17 19:02:29.811</td>\n",
       "      <td>0 %</td>\n",
       "    </tr>\n",
       "  </tbody>\n",
       "</table>\n",
       "</div>"
      ],
      "text/plain": [
       "                  timestamp  utilization.gpu [%]\n",
       "0   2018/03/17 19:02:29.274                  0 %\n",
       "1   2018/03/17 19:02:29.276                  0 %\n",
       "2   2018/03/17 19:02:29.279                  0 %\n",
       "3   2018/03/17 19:02:29.281                  0 %\n",
       "4   2018/03/17 19:02:29.283                  0 %\n",
       "5   2018/03/17 19:02:29.289                  0 %\n",
       "6   2018/03/17 19:02:29.291                  0 %\n",
       "7   2018/03/17 19:02:29.293                  0 %\n",
       "8   2018/03/17 19:02:29.295                  0 %\n",
       "9   2018/03/17 19:02:29.299                  0 %\n",
       "10  2018/03/17 19:02:29.301                  0 %\n",
       "11  2018/03/17 19:02:29.303                  0 %\n",
       "12  2018/03/17 19:02:29.808                  0 %\n",
       "13  2018/03/17 19:02:29.810                  0 %\n",
       "14  2018/03/17 19:02:29.811                  0 %"
      ]
     },
     "execution_count": 4,
     "metadata": {},
     "output_type": "execute_result"
    }
   ],
   "source": [
    "file_csv='monitor_log_0.5s'\n",
    "\n",
    "df_trace = pd.read_csv(file_csv,  engine='python')\n",
    "\n",
    "df_trace[:15]"
   ]
  },
  {
   "cell_type": "code",
   "execution_count": 5,
   "metadata": {},
   "outputs": [
    {
     "name": "stdout",
     "output_type": "stream",
     "text": [
      "242\n"
     ]
    }
   ],
   "source": [
    "count_gpus = 12\n",
    "\n",
    "sampling_records = int(df_trace.shape[0] / 12.)\n",
    "print sampling_records"
   ]
  },
  {
   "cell_type": "code",
   "execution_count": 6,
   "metadata": {},
   "outputs": [
    {
     "name": "stdout",
     "output_type": "stream",
     "text": [
      "monitoring records array : 12 x 242\n"
     ]
    }
   ],
   "source": [
    "print('monitoring records array : {} x {}'.format(count_gpus, sampling_records))"
   ]
  },
  {
   "cell_type": "code",
   "execution_count": 7,
   "metadata": {},
   "outputs": [],
   "source": [
    "util_array = np.zeros((count_gpus, sampling_records)) # each column is each time step"
   ]
  },
  {
   "cell_type": "code",
   "execution_count": 8,
   "metadata": {},
   "outputs": [],
   "source": [
    "#\n",
    "# monitor every 0.5 second\n",
    "#\n",
    "\n",
    "for index, row in df_trace.iterrows():\n",
    "    #print index, row[0], row[1]\n",
    "    gpu_util = float(row[1][:-2]) * 0.01 # process the utilization\n",
    "    \n",
    "    col_id =  int(index) / count_gpus\n",
    "    row_id =  int(index) % count_gpus\n",
    "    \n",
    "    util_array[row_id, col_id] = gpu_util"
   ]
  },
  {
   "cell_type": "code",
   "execution_count": 9,
   "metadata": {},
   "outputs": [
    {
     "data": {
      "image/png": "[encoded data removed]",
      "text/plain": [
       "<matplotlib.figure.Figure at 0x7f1b6d6edc90>"
      ]
     },
     "metadata": {},
     "output_type": "display_data"
    }
   ],
   "source": [
    "sns.set()\n",
    "\n",
    "ax = sns.heatmap(util_array)\n",
    "\n",
    "#fig = ax.get_figure()\n",
    "#fig.savefig(\"test.png\")"
   ]
  }
 ],
 "metadata": {
  "kernelspec": {
   "display_name": "Python 2",
   "language": "python",
   "name": "python2"
  },
  "language_info": {
   "codemirror_mode": {
    "name": "ipython",
    "version": 2
   },
   "file_extension": ".py",
   "mimetype": "text/x-python",
   "name": "python",
   "nbconvert_exporter": "python",
   "pygments_lexer": "ipython2",
   "version": "2.7.14"
  }
 },
 "nbformat": 4,
 "nbformat_minor": 2
}
